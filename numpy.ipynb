{
  "nbformat": 4,
  "nbformat_minor": 0,
  "metadata": {
    "colab": {
      "name": "numpy.ipynb",
      "provenance": [],
      "collapsed_sections": [],
      "authorship_tag": "ABX9TyNgMOLTOT/QWZsKAJ1slkQS",
      "include_colab_link": true
    },
    "kernelspec": {
      "name": "python3",
      "display_name": "Python 3"
    },
    "language_info": {
      "name": "python"
    }
  },
  "cells": [
    {
      "cell_type": "markdown",
      "metadata": {
        "id": "view-in-github",
        "colab_type": "text"
      },
      "source": [
        "<a href=\"https://colab.research.google.com/github/shubhamgogri/Python--DS/blob/main/numpy.ipynb\" target=\"_parent\"><img src=\"https://colab.research.google.com/assets/colab-badge.svg\" alt=\"Open In Colab\"/></a>"
      ]
    },
    {
      "cell_type": "code",
      "execution_count": 2,
      "metadata": {
        "id": "9QtbIGCxEmeV"
      },
      "outputs": [],
      "source": [
        "import numpy as np"
      ]
    },
    {
      "cell_type": "code",
      "source": [
        "list = [1,4,2,5,6]\n",
        "arr = np.array(list)\n",
        "print(arr)"
      ],
      "metadata": {
        "id": "VY2-Tx70F-Ph",
        "outputId": "303878cf-8fa7-478f-e6ef-ab731d54cd42",
        "colab": {
          "base_uri": "https://localhost:8080/"
        }
      },
      "execution_count": null,
      "outputs": [
        {
          "output_type": "stream",
          "name": "stdout",
          "text": [
            "[1 4 2 5 6]\n"
          ]
        }
      ]
    },
    {
      "cell_type": "code",
      "source": [
        "type(arr)\n",
        "arr"
      ],
      "metadata": {
        "id": "CXYjTTk7GORx",
        "outputId": "96d97432-8471-495f-add5-fdd3b4965709",
        "colab": {
          "base_uri": "https://localhost:8080/"
        }
      },
      "execution_count": null,
      "outputs": [
        {
          "output_type": "execute_result",
          "data": {
            "text/plain": [
              "array([1, 4, 2, 5, 6])"
            ]
          },
          "metadata": {},
          "execution_count": 6
        }
      ]
    },
    {
      "cell_type": "code",
      "source": [
        "#shape\n",
        "arr.shape"
      ],
      "metadata": {
        "id": "JmZ7wux8GYTc",
        "outputId": "21b38799-bbe9-4d59-a2c7-0401838af8d7",
        "colab": {
          "base_uri": "https://localhost:8080/"
        }
      },
      "execution_count": null,
      "outputs": [
        {
          "output_type": "execute_result",
          "data": {
            "text/plain": [
              "(5,)"
            ]
          },
          "metadata": {},
          "execution_count": 8
        }
      ]
    },
    {
      "cell_type": "code",
      "source": [
        "#two dimension array\n",
        "list1 = [1,2,4,5]\n",
        "list2 = [5,6,4,4]\n",
        "list3 = [4,8,6,9]\n",
        "list4 = [8,5 ,4,6]\n",
        "arr = np.array([list1, list2,list3,list4])"
      ],
      "metadata": {
        "id": "wXqwFgEOGkaZ"
      },
      "execution_count": null,
      "outputs": []
    },
    {
      "cell_type": "code",
      "source": [
        "arr"
      ],
      "metadata": {
        "id": "uIBPOiaBG9tZ",
        "outputId": "43b52e48-dbcc-424f-9058-a99b77ec9eaf",
        "colab": {
          "base_uri": "https://localhost:8080/"
        }
      },
      "execution_count": null,
      "outputs": [
        {
          "output_type": "execute_result",
          "data": {
            "text/plain": [
              "array([[1, 2, 4, 5],\n",
              "       [5, 6, 4, 4],\n",
              "       [4, 8, 6, 9],\n",
              "       [8, 5, 4, 6]])"
            ]
          },
          "metadata": {},
          "execution_count": 35
        }
      ]
    },
    {
      "cell_type": "code",
      "source": [
        "arr.shape"
      ],
      "metadata": {
        "id": "WyKZjMnwHI7r",
        "outputId": "b5e135d0-32c3-40ad-aa49-8dba512545a7",
        "colab": {
          "base_uri": "https://localhost:8080/"
        }
      },
      "execution_count": null,
      "outputs": [
        {
          "output_type": "execute_result",
          "data": {
            "text/plain": [
              "(4, 4)"
            ]
          },
          "metadata": {},
          "execution_count": 36
        }
      ]
    },
    {
      "cell_type": "code",
      "source": [
        "arr.reshape(2,2,4)\n",
        "arr\n",
        "# total count should be 12 i.e 3*4, 3*2*2\n",
        "# 1st 2[ 2nd 2 [ [4]  ]  ]"
      ],
      "metadata": {
        "id": "fbGfPMtsHZ9P",
        "outputId": "de52f1cb-fdf1-4f8b-aea4-5dd50a0de581",
        "colab": {
          "base_uri": "https://localhost:8080/"
        }
      },
      "execution_count": null,
      "outputs": [
        {
          "output_type": "execute_result",
          "data": {
            "text/plain": [
              "array([[[1, 2, 4, 5],\n",
              "        [5, 6, 4, 4]],\n",
              "\n",
              "       [[4, 8, 6, 9],\n",
              "        [8, 5, 4, 6]]])"
            ]
          },
          "metadata": {},
          "execution_count": 65
        }
      ]
    },
    {
      "cell_type": "code",
      "source": [
        "print(\"arr[0][0]\")\n",
        "print(arr[0][0])\n",
        "print(\"arr[0]\")\n",
        "print(arr[0])\n",
        "print(\"arr\")\n",
        "print(arr)"
      ],
      "metadata": {
        "id": "rMpdcUPHHnFZ",
        "outputId": "3537b8a8-0089-41d2-86a0-408c32527940",
        "colab": {
          "base_uri": "https://localhost:8080/"
        }
      },
      "execution_count": null,
      "outputs": [
        {
          "output_type": "stream",
          "name": "stdout",
          "text": [
            "arr[0][0]\n",
            "[1 2 4 5]\n",
            "arr[0]\n",
            "[[1 2 4 5]\n",
            " [5 6 4 4]]\n",
            "arr\n",
            "[[[1 2 4 5]\n",
            "  [5 6 4 4]]\n",
            "\n",
            " [[4 8 6 9]\n",
            "  [8 5 4 6]]]\n"
          ]
        }
      ]
    },
    {
      "cell_type": "markdown",
      "source": [
        "Indexing\n"
      ],
      "metadata": {
        "id": "z5XeZOr9LNOD"
      }
    },
    {
      "cell_type": "code",
      "source": [
        "arr[:,:]\n",
        "# row,column\n",
        "# all the elements  "
      ],
      "metadata": {
        "id": "SmpxOYiKLTyG",
        "outputId": "071934ef-303f-4c9c-e363-96377736db32",
        "colab": {
          "base_uri": "https://localhost:8080/"
        }
      },
      "execution_count": null,
      "outputs": [
        {
          "output_type": "execute_result",
          "data": {
            "text/plain": [
              "array([[1, 2, 4, 5],\n",
              "       [5, 6, 4, 4],\n",
              "       [4, 8, 6, 9],\n",
              "       [8, 5, 4, 6]])"
            ]
          },
          "metadata": {},
          "execution_count": 68
        }
      ]
    },
    {
      "cell_type": "code",
      "source": [
        "# get elements except the last column and last row\n",
        "arr[:2, :3]"
      ],
      "metadata": {
        "id": "uDvyaXIOLTux",
        "outputId": "de1e6003-c37d-404f-8012-da9e662f4619",
        "colab": {
          "base_uri": "https://localhost:8080/"
        }
      },
      "execution_count": null,
      "outputs": [
        {
          "output_type": "execute_result",
          "data": {
            "text/plain": [
              "array([[1, 2, 4],\n",
              "       [5, 6, 4]])"
            ]
          },
          "metadata": {},
          "execution_count": 75
        }
      ]
    },
    {
      "cell_type": "code",
      "source": [
        "arr[:, 1:]\n",
        "# for all rows get elements after 1st column"
      ],
      "metadata": {
        "id": "QmCktDvBLTqM",
        "outputId": "e9f58e17-c674-4402-b24d-a405225a6567",
        "colab": {
          "base_uri": "https://localhost:8080/"
        }
      },
      "execution_count": null,
      "outputs": [
        {
          "output_type": "execute_result",
          "data": {
            "text/plain": [
              "array([[2, 4, 5],\n",
              "       [6, 4, 4],\n",
              "       [8, 6, 9],\n",
              "       [5, 4, 6]])"
            ]
          },
          "metadata": {},
          "execution_count": 81
        }
      ]
    },
    {
      "cell_type": "code",
      "source": [
        "# from:upto\n",
        "arr[0:2]"
      ],
      "metadata": {
        "id": "4IFwLlyWLTnC",
        "outputId": "3bc5ac3b-5dd1-4af6-b72a-45d2506e66a0",
        "colab": {
          "base_uri": "https://localhost:8080/"
        }
      },
      "execution_count": null,
      "outputs": [
        {
          "output_type": "execute_result",
          "data": {
            "text/plain": [
              "array([[1, 2, 4, 5],\n",
              "       [5, 6, 4, 4]])"
            ]
          },
          "metadata": {},
          "execution_count": 83
        }
      ]
    },
    {
      "cell_type": "code",
      "source": [
        "arr = np.arange(0,10)\n",
        "# arange(from no, to no.) gets all the numbers in between\n",
        "arr"
      ],
      "metadata": {
        "id": "h3tFhdZNLTfP",
        "outputId": "cea5c091-9c16-4b67-9386-aa8d30f66ffe",
        "colab": {
          "base_uri": "https://localhost:8080/"
        }
      },
      "execution_count": null,
      "outputs": [
        {
          "output_type": "execute_result",
          "data": {
            "text/plain": [
              "array([0, 1, 2, 3, 4, 5, 6, 7, 8, 9])"
            ]
          },
          "metadata": {},
          "execution_count": 86
        }
      ]
    },
    {
      "cell_type": "code",
      "source": [
        "arr = np.arange(0,10, step =4)\n",
        "arr                                             "
      ],
      "metadata": {
        "id": "D3bF9lL8LTcE",
        "outputId": "204d4e16-0e64-47af-b722-2b93c95738c3",
        "colab": {
          "base_uri": "https://localhost:8080/"
        }
      },
      "execution_count": null,
      "outputs": [
        {
          "output_type": "execute_result",
          "data": {
            "text/plain": [
              "array([0, 4, 8])"
            ]
          },
          "metadata": {},
          "execution_count": 88
        }
      ]
    },
    {
      "cell_type": "code",
      "source": [
        "# assing all the values to 100\n",
        "arr[1:] =100\n",
        "arr"
      ],
      "metadata": {
        "id": "15XD1ySSLTIB",
        "outputId": "5d363085-1b5a-4447-f19e-3f2f6208b7fc",
        "colab": {
          "base_uri": "https://localhost:8080/"
        }
      },
      "execution_count": null,
      "outputs": [
        {
          "output_type": "execute_result",
          "data": {
            "text/plain": [
              "array([  0, 100, 100])"
            ]
          },
          "metadata": {},
          "execution_count": 90
        }
      ]
    },
    {
      "cell_type": "code",
      "source": [
        "arr = np.arange(0,10)\n",
        "arr "
      ],
      "metadata": {
        "id": "_XM8Oh0xHtpV",
        "outputId": "99c9b8c7-ad2d-494d-c055-d36d3a4d55b8",
        "colab": {
          "base_uri": "https://localhost:8080/"
        }
      },
      "execution_count": null,
      "outputs": [
        {
          "output_type": "execute_result",
          "data": {
            "text/plain": [
              "array([0, 1, 2, 3, 4, 5, 6, 7, 8, 9])"
            ]
          },
          "metadata": {},
          "execution_count": 92
        }
      ]
    },
    {
      "cell_type": "code",
      "source": [
        "# Array is refrenced type \n",
        "# hence the different versions are not attained \n",
        "# So use copy function\n",
        "arr1 = arr.copy()\n",
        "arr1[:4] =100"
      ],
      "metadata": {
        "id": "2D4M8gE9PK1h"
      },
      "execution_count": null,
      "outputs": []
    },
    {
      "cell_type": "code",
      "source": [
        "print(arr1)\n",
        "print(arr)"
      ],
      "metadata": {
        "id": "hLccw_u0PiRX",
        "outputId": "e2f4e907-6ac0-4e89-97e1-a376bee7cd8e",
        "colab": {
          "base_uri": "https://localhost:8080/"
        }
      },
      "execution_count": null,
      "outputs": [
        {
          "output_type": "stream",
          "name": "stdout",
          "text": [
            "[100 100 100 100   4   5   6   7   8   9]\n",
            "[0 1 2 3 4 5 6 7 8 9]\n"
          ]
        }
      ]
    },
    {
      "cell_type": "code",
      "source": [
        "# Useful in EDA\n",
        "\n",
        "val = 2 \n",
        "arr<2"
      ],
      "metadata": {
        "id": "lWWV7o2FPonK",
        "outputId": "ae22eb60-e015-4762-a43f-1ea4904f5354",
        "colab": {
          "base_uri": "https://localhost:8080/"
        }
      },
      "execution_count": null,
      "outputs": [
        {
          "output_type": "execute_result",
          "data": {
            "text/plain": [
              "array([ True,  True, False, False, False, False, False, False, False,\n",
              "       False])"
            ]
          },
          "metadata": {},
          "execution_count": 97
        }
      ]
    },
    {
      "cell_type": "code",
      "source": [
        "arr = arr *5"
      ],
      "metadata": {
        "id": "xHIcrnIAP3Gd"
      },
      "execution_count": null,
      "outputs": []
    },
    {
      "cell_type": "code",
      "source": [
        "arr[arr>4]\n",
        "# get elements that are greater than 4"
      ],
      "metadata": {
        "id": "S4KAVFw5P5uz",
        "outputId": "fb5b50a0-1a46-4163-8c3b-13c0bc052574",
        "colab": {
          "base_uri": "https://localhost:8080/"
        }
      },
      "execution_count": null,
      "outputs": [
        {
          "output_type": "execute_result",
          "data": {
            "text/plain": [
              "array([ 5, 10, 15, 20, 25, 30, 35, 40, 45])"
            ]
          },
          "metadata": {},
          "execution_count": 105
        }
      ]
    },
    {
      "cell_type": "code",
      "source": [
        "np.ones(5)\n",
        "# float by default"
      ],
      "metadata": {
        "id": "U8QTvswxQJi3",
        "outputId": "e6532d8d-b2a7-41f7-fc64-e0a0e8a0d5dd",
        "colab": {
          "base_uri": "https://localhost:8080/"
        }
      },
      "execution_count": null,
      "outputs": [
        {
          "output_type": "execute_result",
          "data": {
            "text/plain": [
              "array([1., 1., 1., 1., 1.])"
            ]
          },
          "metadata": {},
          "execution_count": 107
        }
      ]
    },
    {
      "cell_type": "code",
      "source": [
        "np.ones((3,4))\n",
        "# matrix"
      ],
      "metadata": {
        "id": "XV6-kryrQaK5",
        "outputId": "8ab8fce5-f0d7-4f6f-b398-7ccce4ae46e9",
        "colab": {
          "base_uri": "https://localhost:8080/"
        }
      },
      "execution_count": null,
      "outputs": [
        {
          "output_type": "execute_result",
          "data": {
            "text/plain": [
              "array([[1., 1., 1., 1.],\n",
              "       [1., 1., 1., 1.],\n",
              "       [1., 1., 1., 1.]])"
            ]
          },
          "metadata": {},
          "execution_count": 111
        }
      ]
    },
    {
      "cell_type": "code",
      "source": [
        "arr =   np.random.rand(3,3)"
      ],
      "metadata": {
        "id": "rBGXAEgNQnEv"
      },
      "execution_count": 5,
      "outputs": []
    },
    {
      "cell_type": "code",
      "source": [
        "np.random.randint(0,100,  5)  "
      ],
      "metadata": {
        "colab": {
          "base_uri": "https://localhost:8080/"
        },
        "id": "eeQsKXRxRtRR",
        "outputId": "a0a6f155-a6bb-415f-db48-49966bd982df"
      },
      "execution_count": 11,
      "outputs": [
        {
          "output_type": "execute_result",
          "data": {
            "text/plain": [
              "array([80, 19, 72, 23, 71])"
            ]
          },
          "metadata": {},
          "execution_count": 11
        }
      ]
    },
    {
      "cell_type": "code",
      "source": [
        "np.random.random_sample(45)"
      ],
      "metadata": {
        "colab": {
          "base_uri": "https://localhost:8080/"
        },
        "id": "0LMBcPEFRYSD",
        "outputId": "7f27f915-ff2b-4d39-94ea-61253ef4726e"
      },
      "execution_count": 13,
      "outputs": [
        {
          "output_type": "execute_result",
          "data": {
            "text/plain": [
              "array([0.56109072, 0.56361885, 0.06513318, 0.32229184, 0.8722962 ,\n",
              "       0.94585322, 0.70185148, 0.88909884, 0.59887103, 0.30555157,\n",
              "       0.20303723, 0.47681722, 0.54653154, 0.83791493, 0.19811992,\n",
              "       0.4454553 , 0.33430985, 0.08813523, 0.5156316 , 0.24501809,\n",
              "       0.59036621, 0.69536919, 0.25367035, 0.11454179, 0.35869069,\n",
              "       0.9120424 , 0.3147421 , 0.68065237, 0.03903953, 0.53935003,\n",
              "       0.71383912, 0.15223695, 0.22507648, 0.55245333, 0.93341295,\n",
              "       0.03821996, 0.11059892, 0.78936113, 0.89051611, 0.94083114,\n",
              "       0.29523093, 0.93706566, 0.92094583, 0.79359512, 0.06625592])"
            ]
          },
          "metadata": {},
          "execution_count": 13
        }
      ]
    },
    {
      "cell_type": "code",
      "source": [
        ""
      ],
      "metadata": {
        "id": "Sad9U59ERdGG"
      },
      "execution_count": null,
      "outputs": []
    }
  ]
}