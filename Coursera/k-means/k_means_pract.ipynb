{
  "nbformat": 4,
  "nbformat_minor": 0,
  "metadata": {
    "colab": {
      "provenance": [],
      "collapsed_sections": [
        "u4CahI_vkmje"
      ],
      "authorship_tag": "ABX9TyO0laM2GF5gB3ZyV1HCqSCl",
      "include_colab_link": true
    },
    "kernelspec": {
      "name": "python3",
      "display_name": "Python 3"
    },
    "language_info": {
      "name": "python"
    }
  },
  "cells": [
    {
      "cell_type": "markdown",
      "metadata": {
        "id": "view-in-github",
        "colab_type": "text"
      },
      "source": [
        "<a href=\"https://colab.research.google.com/github/shubhamgogri/Python--DS/blob/main/Coursera/k-means/k_means_pract.ipynb\" target=\"_parent\"><img src=\"https://colab.research.google.com/assets/colab-badge.svg\" alt=\"Open In Colab\"/></a>"
      ]
    },
    {
      "cell_type": "markdown",
      "source": [
        "guide for the k-means model selection and visualization\n",
        "\n",
        "https://medium.com/pursuitnotes/k-means-clustering-model-in-6-steps-with-python-35b532cfa8ad"
      ],
      "metadata": {
        "id": "ZzQtWuC3msms"
      }
    },
    {
      "cell_type": "code",
      "execution_count": 1,
      "metadata": {
        "id": "7j0SiXchUsaS"
      },
      "outputs": [],
      "source": [
        "import numpy as np\n",
        "import pandas as pd"
      ]
    },
    {
      "cell_type": "code",
      "source": [
        "data = pd.read_csv('https://raw.githubusercontent.com/shubhamgogri/Python--DS/main/Coursera/k-means/happyscore_income.csv')\n",
        "data.head()"
      ],
      "metadata": {
        "colab": {
          "base_uri": "https://localhost:8080/",
          "height": 285
        },
        "id": "YENNkkVdVAaW",
        "outputId": "f6552b6b-cce5-4ecb-8245-5f552e388809"
      },
      "execution_count": 2,
      "outputs": [
        {
          "output_type": "execute_result",
          "data": {
            "text/plain": [
              "     country  adjusted_satisfaction  avg_satisfaction  std_satisfaction  \\\n",
              "0    Armenia                     37               4.9              2.42   \n",
              "1     Angola                     26               4.3              3.19   \n",
              "2  Argentina                     60               7.1              1.91   \n",
              "3    Austria                     59               7.2              2.11   \n",
              "4  Australia                     65               7.6              1.80   \n",
              "\n",
              "   avg_income  median_income  income_inequality  \\\n",
              "0     2096.76    1731.506667          31.445556   \n",
              "1     1448.88    1044.240000          42.720000   \n",
              "2     7101.12    5109.400000          45.475556   \n",
              "3    19457.04   16879.620000          30.296250   \n",
              "4    19917.00   15846.060000          35.285000   \n",
              "\n",
              "                          region      GDP  happyScore  \n",
              "0   'Central and Eastern Europe'  0.76821       4.350  \n",
              "1           'Sub-Saharan Africa'  0.75778       4.033  \n",
              "2  'Latin America and Caribbean'  1.05351       6.574  \n",
              "3               'Western Europe'  1.33723       7.200  \n",
              "4    'Australia and New Zealand'  1.33358       7.284  "
            ],
            "text/html": [
              "\n",
              "  <div id=\"df-164d01d5-d2b2-4ca7-b049-4dcf58d04135\">\n",
              "    <div class=\"colab-df-container\">\n",
              "      <div>\n",
              "<style scoped>\n",
              "    .dataframe tbody tr th:only-of-type {\n",
              "        vertical-align: middle;\n",
              "    }\n",
              "\n",
              "    .dataframe tbody tr th {\n",
              "        vertical-align: top;\n",
              "    }\n",
              "\n",
              "    .dataframe thead th {\n",
              "        text-align: right;\n",
              "    }\n",
              "</style>\n",
              "<table border=\"1\" class=\"dataframe\">\n",
              "  <thead>\n",
              "    <tr style=\"text-align: right;\">\n",
              "      <th></th>\n",
              "      <th>country</th>\n",
              "      <th>adjusted_satisfaction</th>\n",
              "      <th>avg_satisfaction</th>\n",
              "      <th>std_satisfaction</th>\n",
              "      <th>avg_income</th>\n",
              "      <th>median_income</th>\n",
              "      <th>income_inequality</th>\n",
              "      <th>region</th>\n",
              "      <th>GDP</th>\n",
              "      <th>happyScore</th>\n",
              "    </tr>\n",
              "  </thead>\n",
              "  <tbody>\n",
              "    <tr>\n",
              "      <th>0</th>\n",
              "      <td>Armenia</td>\n",
              "      <td>37</td>\n",
              "      <td>4.9</td>\n",
              "      <td>2.42</td>\n",
              "      <td>2096.76</td>\n",
              "      <td>1731.506667</td>\n",
              "      <td>31.445556</td>\n",
              "      <td>'Central and Eastern Europe'</td>\n",
              "      <td>0.76821</td>\n",
              "      <td>4.350</td>\n",
              "    </tr>\n",
              "    <tr>\n",
              "      <th>1</th>\n",
              "      <td>Angola</td>\n",
              "      <td>26</td>\n",
              "      <td>4.3</td>\n",
              "      <td>3.19</td>\n",
              "      <td>1448.88</td>\n",
              "      <td>1044.240000</td>\n",
              "      <td>42.720000</td>\n",
              "      <td>'Sub-Saharan Africa'</td>\n",
              "      <td>0.75778</td>\n",
              "      <td>4.033</td>\n",
              "    </tr>\n",
              "    <tr>\n",
              "      <th>2</th>\n",
              "      <td>Argentina</td>\n",
              "      <td>60</td>\n",
              "      <td>7.1</td>\n",
              "      <td>1.91</td>\n",
              "      <td>7101.12</td>\n",
              "      <td>5109.400000</td>\n",
              "      <td>45.475556</td>\n",
              "      <td>'Latin America and Caribbean'</td>\n",
              "      <td>1.05351</td>\n",
              "      <td>6.574</td>\n",
              "    </tr>\n",
              "    <tr>\n",
              "      <th>3</th>\n",
              "      <td>Austria</td>\n",
              "      <td>59</td>\n",
              "      <td>7.2</td>\n",
              "      <td>2.11</td>\n",
              "      <td>19457.04</td>\n",
              "      <td>16879.620000</td>\n",
              "      <td>30.296250</td>\n",
              "      <td>'Western Europe'</td>\n",
              "      <td>1.33723</td>\n",
              "      <td>7.200</td>\n",
              "    </tr>\n",
              "    <tr>\n",
              "      <th>4</th>\n",
              "      <td>Australia</td>\n",
              "      <td>65</td>\n",
              "      <td>7.6</td>\n",
              "      <td>1.80</td>\n",
              "      <td>19917.00</td>\n",
              "      <td>15846.060000</td>\n",
              "      <td>35.285000</td>\n",
              "      <td>'Australia and New Zealand'</td>\n",
              "      <td>1.33358</td>\n",
              "      <td>7.284</td>\n",
              "    </tr>\n",
              "  </tbody>\n",
              "</table>\n",
              "</div>\n",
              "      <button class=\"colab-df-convert\" onclick=\"convertToInteractive('df-164d01d5-d2b2-4ca7-b049-4dcf58d04135')\"\n",
              "              title=\"Convert this dataframe to an interactive table.\"\n",
              "              style=\"display:none;\">\n",
              "        \n",
              "  <svg xmlns=\"http://www.w3.org/2000/svg\" height=\"24px\"viewBox=\"0 0 24 24\"\n",
              "       width=\"24px\">\n",
              "    <path d=\"M0 0h24v24H0V0z\" fill=\"none\"/>\n",
              "    <path d=\"M18.56 5.44l.94 2.06.94-2.06 2.06-.94-2.06-.94-.94-2.06-.94 2.06-2.06.94zm-11 1L8.5 8.5l.94-2.06 2.06-.94-2.06-.94L8.5 2.5l-.94 2.06-2.06.94zm10 10l.94 2.06.94-2.06 2.06-.94-2.06-.94-.94-2.06-.94 2.06-2.06.94z\"/><path d=\"M17.41 7.96l-1.37-1.37c-.4-.4-.92-.59-1.43-.59-.52 0-1.04.2-1.43.59L10.3 9.45l-7.72 7.72c-.78.78-.78 2.05 0 2.83L4 21.41c.39.39.9.59 1.41.59.51 0 1.02-.2 1.41-.59l7.78-7.78 2.81-2.81c.8-.78.8-2.07 0-2.86zM5.41 20L4 18.59l7.72-7.72 1.47 1.35L5.41 20z\"/>\n",
              "  </svg>\n",
              "      </button>\n",
              "      \n",
              "  <style>\n",
              "    .colab-df-container {\n",
              "      display:flex;\n",
              "      flex-wrap:wrap;\n",
              "      gap: 12px;\n",
              "    }\n",
              "\n",
              "    .colab-df-convert {\n",
              "      background-color: #E8F0FE;\n",
              "      border: none;\n",
              "      border-radius: 50%;\n",
              "      cursor: pointer;\n",
              "      display: none;\n",
              "      fill: #1967D2;\n",
              "      height: 32px;\n",
              "      padding: 0 0 0 0;\n",
              "      width: 32px;\n",
              "    }\n",
              "\n",
              "    .colab-df-convert:hover {\n",
              "      background-color: #E2EBFA;\n",
              "      box-shadow: 0px 1px 2px rgba(60, 64, 67, 0.3), 0px 1px 3px 1px rgba(60, 64, 67, 0.15);\n",
              "      fill: #174EA6;\n",
              "    }\n",
              "\n",
              "    [theme=dark] .colab-df-convert {\n",
              "      background-color: #3B4455;\n",
              "      fill: #D2E3FC;\n",
              "    }\n",
              "\n",
              "    [theme=dark] .colab-df-convert:hover {\n",
              "      background-color: #434B5C;\n",
              "      box-shadow: 0px 1px 3px 1px rgba(0, 0, 0, 0.15);\n",
              "      filter: drop-shadow(0px 1px 2px rgba(0, 0, 0, 0.3));\n",
              "      fill: #FFFFFF;\n",
              "    }\n",
              "  </style>\n",
              "\n",
              "      <script>\n",
              "        const buttonEl =\n",
              "          document.querySelector('#df-164d01d5-d2b2-4ca7-b049-4dcf58d04135 button.colab-df-convert');\n",
              "        buttonEl.style.display =\n",
              "          google.colab.kernel.accessAllowed ? 'block' : 'none';\n",
              "\n",
              "        async function convertToInteractive(key) {\n",
              "          const element = document.querySelector('#df-164d01d5-d2b2-4ca7-b049-4dcf58d04135');\n",
              "          const dataTable =\n",
              "            await google.colab.kernel.invokeFunction('convertToInteractive',\n",
              "                                                     [key], {});\n",
              "          if (!dataTable) return;\n",
              "\n",
              "          const docLinkHtml = 'Like what you see? Visit the ' +\n",
              "            '<a target=\"_blank\" href=https://colab.research.google.com/notebooks/data_table.ipynb>data table notebook</a>'\n",
              "            + ' to learn more about interactive tables.';\n",
              "          element.innerHTML = '';\n",
              "          dataTable['output_type'] = 'display_data';\n",
              "          await google.colab.output.renderOutput(dataTable, element);\n",
              "          const docLink = document.createElement('div');\n",
              "          docLink.innerHTML = docLinkHtml;\n",
              "          element.appendChild(docLink);\n",
              "        }\n",
              "      </script>\n",
              "    </div>\n",
              "  </div>\n",
              "  "
            ]
          },
          "metadata": {},
          "execution_count": 2
        }
      ]
    },
    {
      "cell_type": "code",
      "source": [
        "import matplotlib.pyplot as plt"
      ],
      "metadata": {
        "id": "7IU3kJoYLrhf"
      },
      "execution_count": 3,
      "outputs": []
    },
    {
      "cell_type": "code",
      "source": [
        "plt.scatter(data[\"avg_income\"], data['happyScore'])"
      ],
      "metadata": {
        "colab": {
          "base_uri": "https://localhost:8080/",
          "height": 282
        },
        "id": "q1-UPjU0Lrdg",
        "outputId": "1a0f5dcf-7a91-447e-d4a9-0b2ae4063fd2"
      },
      "execution_count": 4,
      "outputs": [
        {
          "output_type": "execute_result",
          "data": {
            "text/plain": [
              "<matplotlib.collections.PathCollection at 0x7f8db821ee50>"
            ]
          },
          "metadata": {},
          "execution_count": 4
        },
        {
          "output_type": "display_data",
          "data": {
            "text/plain": [
              "<Figure size 432x288 with 1 Axes>"
            ],
            "image/png": "[encoded data removed]"
          },
          "metadata": {
            "needs_background": "light"
          }
        }
      ]
    },
    {
      "cell_type": "code",
      "source": [
        "data.avg_income"
      ],
      "metadata": {
        "colab": {
          "base_uri": "https://localhost:8080/"
        },
        "id": "MvxyNQRWLraS",
        "outputId": "e07f9976-b468-4aad-a60e-50a03adf0b16"
      },
      "execution_count": 5,
      "outputs": [
        {
          "output_type": "execute_result",
          "data": {
            "text/plain": [
              "0       2096.76\n",
              "1       1448.88\n",
              "2       7101.12\n",
              "3      19457.04\n",
              "4      19917.00\n",
              "         ...   \n",
              "106     7544.40\n",
              "107     2231.40\n",
              "108     3889.32\n",
              "109      956.76\n",
              "110     1768.56\n",
              "Name: avg_income, Length: 111, dtype: float64"
            ]
          },
          "metadata": {},
          "execution_count": 5
        }
      ]
    },
    {
      "cell_type": "code",
      "source": [
        "data.info()"
      ],
      "metadata": {
        "id": "CLAFYEeFV2lg",
        "colab": {
          "base_uri": "https://localhost:8080/"
        },
        "outputId": "88ca604d-af9c-4d2a-f5a1-d358ab67304d"
      },
      "execution_count": 6,
      "outputs": [
        {
          "output_type": "stream",
          "name": "stdout",
          "text": [
            "<class 'pandas.core.frame.DataFrame'>\n",
            "RangeIndex: 111 entries, 0 to 110\n",
            "Data columns (total 10 columns):\n",
            " #   Column                 Non-Null Count  Dtype  \n",
            "---  ------                 --------------  -----  \n",
            " 0   country                111 non-null    object \n",
            " 1   adjusted_satisfaction  111 non-null    int64  \n",
            " 2   avg_satisfaction       111 non-null    float64\n",
            " 3   std_satisfaction       111 non-null    float64\n",
            " 4   avg_income             111 non-null    float64\n",
            " 5   median_income          111 non-null    float64\n",
            " 6   income_inequality      111 non-null    float64\n",
            " 7   region                 111 non-null    object \n",
            " 8   GDP                    111 non-null    float64\n",
            " 9   happyScore             111 non-null    float64\n",
            "dtypes: float64(7), int64(1), object(2)\n",
            "memory usage: 8.8+ KB\n"
          ]
        }
      ]
    },
    {
      "cell_type": "code",
      "source": [
        "data.sort_values('avg_income', inplace = True )\n",
        "data "
      ],
      "metadata": {
        "colab": {
          "base_uri": "https://localhost:8080/",
          "height": 468
        },
        "id": "GaWEDmvkNNj2",
        "outputId": "14431bf3-976c-4831-951c-f78067429875"
      },
      "execution_count": 7,
      "outputs": [
        {
          "output_type": "execute_result",
          "data": {
            "text/plain": [
              "           country  adjusted_satisfaction  avg_satisfaction  std_satisfaction  \\\n",
              "10         Burundi                     25               2.9              1.96   \n",
              "65      Madagascar                     33               3.7              1.86   \n",
              "58         Liberia                     37               4.4              2.02   \n",
              "72      Mozambique                     34               3.8              1.76   \n",
              "73           Niger                     34               3.8              1.75   \n",
              "..             ...                    ...               ...               ...   \n",
              "16          Canada                     69               8.0              1.71   \n",
              "77          Norway                     70               8.0              1.62   \n",
              "105  United States                     62               7.3              1.92   \n",
              "17     Switzerland                     70               8.0              1.62   \n",
              "61      Luxembourg                     66               7.7              1.76   \n",
              "\n",
              "     avg_income  median_income  income_inequality                region  \\\n",
              "10      572.880         436.92          33.360000  'Sub-Saharan Africa'   \n",
              "65      574.200         415.48          40.720000  'Sub-Saharan Africa'   \n",
              "58      653.040         528.72          36.480000  'Sub-Saharan Africa'   \n",
              "72      714.720         488.52          45.580000  'Sub-Saharan Africa'   \n",
              "73      718.400         535.56          37.726667  'Sub-Saharan Africa'   \n",
              "..          ...            ...                ...                   ...   \n",
              "16    20190.780       16829.10          33.790000       'North America'   \n",
              "77    21877.710       19477.62          27.307500      'Western Europe'   \n",
              "105   23127.000       17925.36          41.090000       'North America'   \n",
              "17    23400.040       19442.92          32.930000      'Western Europe'   \n",
              "61    26182.275       22240.23          31.950000      'Western Europe'   \n",
              "\n",
              "         GDP  happyScore  \n",
              "10   0.01530       2.905  \n",
              "65   0.20824       3.681  \n",
              "58   0.07120       4.571  \n",
              "72   0.08308       4.971  \n",
              "73   0.06940       3.845  \n",
              "..       ...         ...  \n",
              "16   1.32629       7.427  \n",
              "77   1.45900       7.522  \n",
              "105  1.39451       7.119  \n",
              "17   1.39651       7.587  \n",
              "61   1.56391       6.946  \n",
              "\n",
              "[111 rows x 10 columns]"
            ],
            "text/html": [
              "\n",
              "  <div id=\"df-7f960e80-6aac-47f1-9653-cb0e4ffc2de0\">\n",
              "    <div class=\"colab-df-container\">\n",
              "      <div>\n",
              "<style scoped>\n",
              "    .dataframe tbody tr th:only-of-type {\n",
              "        vertical-align: middle;\n",
              "    }\n",
              "\n",
              "    .dataframe tbody tr th {\n",
              "        vertical-align: top;\n",
              "    }\n",
              "\n",
              "    .dataframe thead th {\n",
              "        text-align: right;\n",
              "    }\n",
              "</style>\n",
              "<table border=\"1\" class=\"dataframe\">\n",
              "  <thead>\n",
              "    <tr style=\"text-align: right;\">\n",
              "      <th></th>\n",
              "      <th>country</th>\n",
              "      <th>adjusted_satisfaction</th>\n",
              "      <th>avg_satisfaction</th>\n",
              "      <th>std_satisfaction</th>\n",
              "      <th>avg_income</th>\n",
              "      <th>median_income</th>\n",
              "      <th>income_inequality</th>\n",
              "      <th>region</th>\n",
              "      <th>GDP</th>\n",
              "      <th>happyScore</th>\n",
              "    </tr>\n",
              "  </thead>\n",
              "  <tbody>\n",
              "    <tr>\n",
              "      <th>10</th>\n",
              "      <td>Burundi</td>\n",
              "      <td>25</td>\n",
              "      <td>2.9</td>\n",
              "      <td>1.96</td>\n",
              "      <td>572.880</td>\n",
              "      <td>436.92</td>\n",
              "      <td>33.360000</td>\n",
              "      <td>'Sub-Saharan Africa'</td>\n",
              "      <td>0.01530</td>\n",
              "      <td>2.905</td>\n",
              "    </tr>\n",
              "    <tr>\n",
              "      <th>65</th>\n",
              "      <td>Madagascar</td>\n",
              "      <td>33</td>\n",
              "      <td>3.7</td>\n",
              "      <td>1.86</td>\n",
              "      <td>574.200</td>\n",
              "      <td>415.48</td>\n",
              "      <td>40.720000</td>\n",
              "      <td>'Sub-Saharan Africa'</td>\n",
              "      <td>0.20824</td>\n",
              "      <td>3.681</td>\n",
              "    </tr>\n",
              "    <tr>\n",
              "      <th>58</th>\n",
              "      <td>Liberia</td>\n",
              "      <td>37</td>\n",
              "      <td>4.4</td>\n",
              "      <td>2.02</td>\n",
              "      <td>653.040</td>\n",
              "      <td>528.72</td>\n",
              "      <td>36.480000</td>\n",
              "      <td>'Sub-Saharan Africa'</td>\n",
              "      <td>0.07120</td>\n",
              "      <td>4.571</td>\n",
              "    </tr>\n",
              "    <tr>\n",
              "      <th>72</th>\n",
              "      <td>Mozambique</td>\n",
              "      <td>34</td>\n",
              "      <td>3.8</td>\n",
              "      <td>1.76</td>\n",
              "      <td>714.720</td>\n",
              "      <td>488.52</td>\n",
              "      <td>45.580000</td>\n",
              "      <td>'Sub-Saharan Africa'</td>\n",
              "      <td>0.08308</td>\n",
              "      <td>4.971</td>\n",
              "    </tr>\n",
              "    <tr>\n",
              "      <th>73</th>\n",
              "      <td>Niger</td>\n",
              "      <td>34</td>\n",
              "      <td>3.8</td>\n",
              "      <td>1.75</td>\n",
              "      <td>718.400</td>\n",
              "      <td>535.56</td>\n",
              "      <td>37.726667</td>\n",
              "      <td>'Sub-Saharan Africa'</td>\n",
              "      <td>0.06940</td>\n",
              "      <td>3.845</td>\n",
              "    </tr>\n",
              "    <tr>\n",
              "      <th>...</th>\n",
              "      <td>...</td>\n",
              "      <td>...</td>\n",
              "      <td>...</td>\n",
              "      <td>...</td>\n",
              "      <td>...</td>\n",
              "      <td>...</td>\n",
              "      <td>...</td>\n",
              "      <td>...</td>\n",
              "      <td>...</td>\n",
              "      <td>...</td>\n",
              "    </tr>\n",
              "    <tr>\n",
              "      <th>16</th>\n",
              "      <td>Canada</td>\n",
              "      <td>69</td>\n",
              "      <td>8.0</td>\n",
              "      <td>1.71</td>\n",
              "      <td>20190.780</td>\n",
              "      <td>16829.10</td>\n",
              "      <td>33.790000</td>\n",
              "      <td>'North America'</td>\n",
              "      <td>1.32629</td>\n",
              "      <td>7.427</td>\n",
              "    </tr>\n",
              "    <tr>\n",
              "      <th>77</th>\n",
              "      <td>Norway</td>\n",
              "      <td>70</td>\n",
              "      <td>8.0</td>\n",
              "      <td>1.62</td>\n",
              "      <td>21877.710</td>\n",
              "      <td>19477.62</td>\n",
              "      <td>27.307500</td>\n",
              "      <td>'Western Europe'</td>\n",
              "      <td>1.45900</td>\n",
              "      <td>7.522</td>\n",
              "    </tr>\n",
              "    <tr>\n",
              "      <th>105</th>\n",
              "      <td>United States</td>\n",
              "      <td>62</td>\n",
              "      <td>7.3</td>\n",
              "      <td>1.92</td>\n",
              "      <td>23127.000</td>\n",
              "      <td>17925.36</td>\n",
              "      <td>41.090000</td>\n",
              "      <td>'North America'</td>\n",
              "      <td>1.39451</td>\n",
              "      <td>7.119</td>\n",
              "    </tr>\n",
              "    <tr>\n",
              "      <th>17</th>\n",
              "      <td>Switzerland</td>\n",
              "      <td>70</td>\n",
              "      <td>8.0</td>\n",
              "      <td>1.62</td>\n",
              "      <td>23400.040</td>\n",
              "      <td>19442.92</td>\n",
              "      <td>32.930000</td>\n",
              "      <td>'Western Europe'</td>\n",
              "      <td>1.39651</td>\n",
              "      <td>7.587</td>\n",
              "    </tr>\n",
              "    <tr>\n",
              "      <th>61</th>\n",
              "      <td>Luxembourg</td>\n",
              "      <td>66</td>\n",
              "      <td>7.7</td>\n",
              "      <td>1.76</td>\n",
              "      <td>26182.275</td>\n",
              "      <td>22240.23</td>\n",
              "      <td>31.950000</td>\n",
              "      <td>'Western Europe'</td>\n",
              "      <td>1.56391</td>\n",
              "      <td>6.946</td>\n",
              "    </tr>\n",
              "  </tbody>\n",
              "</table>\n",
              "<p>111 rows × 10 columns</p>\n",
              "</div>\n",
              "      <button class=\"colab-df-convert\" onclick=\"convertToInteractive('df-7f960e80-6aac-47f1-9653-cb0e4ffc2de0')\"\n",
              "              title=\"Convert this dataframe to an interactive table.\"\n",
              "              style=\"display:none;\">\n",
              "        \n",
              "  <svg xmlns=\"http://www.w3.org/2000/svg\" height=\"24px\"viewBox=\"0 0 24 24\"\n",
              "       width=\"24px\">\n",
              "    <path d=\"M0 0h24v24H0V0z\" fill=\"none\"/>\n",
              "    <path d=\"M18.56 5.44l.94 2.06.94-2.06 2.06-.94-2.06-.94-.94-2.06-.94 2.06-2.06.94zm-11 1L8.5 8.5l.94-2.06 2.06-.94-2.06-.94L8.5 2.5l-.94 2.06-2.06.94zm10 10l.94 2.06.94-2.06 2.06-.94-2.06-.94-.94-2.06-.94 2.06-2.06.94z\"/><path d=\"M17.41 7.96l-1.37-1.37c-.4-.4-.92-.59-1.43-.59-.52 0-1.04.2-1.43.59L10.3 9.45l-7.72 7.72c-.78.78-.78 2.05 0 2.83L4 21.41c.39.39.9.59 1.41.59.51 0 1.02-.2 1.41-.59l7.78-7.78 2.81-2.81c.8-.78.8-2.07 0-2.86zM5.41 20L4 18.59l7.72-7.72 1.47 1.35L5.41 20z\"/>\n",
              "  </svg>\n",
              "      </button>\n",
              "      \n",
              "  <style>\n",
              "    .colab-df-container {\n",
              "      display:flex;\n",
              "      flex-wrap:wrap;\n",
              "      gap: 12px;\n",
              "    }\n",
              "\n",
              "    .colab-df-convert {\n",
              "      background-color: #E8F0FE;\n",
              "      border: none;\n",
              "      border-radius: 50%;\n",
              "      cursor: pointer;\n",
              "      display: none;\n",
              "      fill: #1967D2;\n",
              "      height: 32px;\n",
              "      padding: 0 0 0 0;\n",
              "      width: 32px;\n",
              "    }\n",
              "\n",
              "    .colab-df-convert:hover {\n",
              "      background-color: #E2EBFA;\n",
              "      box-shadow: 0px 1px 2px rgba(60, 64, 67, 0.3), 0px 1px 3px 1px rgba(60, 64, 67, 0.15);\n",
              "      fill: #174EA6;\n",
              "    }\n",
              "\n",
              "    [theme=dark] .colab-df-convert {\n",
              "      background-color: #3B4455;\n",
              "      fill: #D2E3FC;\n",
              "    }\n",
              "\n",
              "    [theme=dark] .colab-df-convert:hover {\n",
              "      background-color: #434B5C;\n",
              "      box-shadow: 0px 1px 3px 1px rgba(0, 0, 0, 0.15);\n",
              "      filter: drop-shadow(0px 1px 2px rgba(0, 0, 0, 0.3));\n",
              "      fill: #FFFFFF;\n",
              "    }\n",
              "  </style>\n",
              "\n",
              "      <script>\n",
              "        const buttonEl =\n",
              "          document.querySelector('#df-7f960e80-6aac-47f1-9653-cb0e4ffc2de0 button.colab-df-convert');\n",
              "        buttonEl.style.display =\n",
              "          google.colab.kernel.accessAllowed ? 'block' : 'none';\n",
              "\n",
              "        async function convertToInteractive(key) {\n",
              "          const element = document.querySelector('#df-7f960e80-6aac-47f1-9653-cb0e4ffc2de0');\n",
              "          const dataTable =\n",
              "            await google.colab.kernel.invokeFunction('convertToInteractive',\n",
              "                                                     [key], {});\n",
              "          if (!dataTable) return;\n",
              "\n",
              "          const docLinkHtml = 'Like what you see? Visit the ' +\n",
              "            '<a target=\"_blank\" href=https://colab.research.google.com/notebooks/data_table.ipynb>data table notebook</a>'\n",
              "            + ' to learn more about interactive tables.';\n",
              "          element.innerHTML = '';\n",
              "          dataTable['output_type'] = 'display_data';\n",
              "          await google.colab.output.renderOutput(dataTable, element);\n",
              "          const docLink = document.createElement('div');\n",
              "          docLink.innerHTML = docLinkHtml;\n",
              "          element.appendChild(docLink);\n",
              "        }\n",
              "      </script>\n",
              "    </div>\n",
              "  </div>\n",
              "  "
            ]
          },
          "metadata": {},
          "execution_count": 7
        }
      ]
    },
    {
      "cell_type": "code",
      "source": [
        "rich = data[data['avg_income'] > 15000]"
      ],
      "metadata": {
        "id": "y3_fRIM-NNe1"
      },
      "execution_count": 8,
      "outputs": []
    },
    {
      "cell_type": "code",
      "source": [
        "rich"
      ],
      "metadata": {
        "colab": {
          "base_uri": "https://localhost:8080/",
          "height": 693
        },
        "id": "hE2Zf4XHNNbh",
        "outputId": "c3a5e60e-b08b-46d9-c210-396860ed98a2"
      },
      "execution_count": 9,
      "outputs": [
        {
          "output_type": "execute_result",
          "data": {
            "text/plain": [
              "            country  adjusted_satisfaction  avg_satisfaction  \\\n",
              "49            Italy                     57               6.6   \n",
              "44          Ireland                     64               7.5   \n",
              "90           Sweden                     67               7.8   \n",
              "36   United Kingdom                     60               7.1   \n",
              "7           Belgium                     63               7.2   \n",
              "33          Finland                     70               7.9   \n",
              "27          Denmark                     74               8.4   \n",
              "34           France                     52               6.4   \n",
              "76      Netherlands                     69               7.6   \n",
              "48          Iceland                     71               8.1   \n",
              "25          Germany                     61               7.2   \n",
              "3           Austria                     59               7.2   \n",
              "4         Australia                     65               7.6   \n",
              "16           Canada                     69               8.0   \n",
              "77           Norway                     70               8.0   \n",
              "105   United States                     62               7.3   \n",
              "17      Switzerland                     70               8.0   \n",
              "61       Luxembourg                     66               7.7   \n",
              "\n",
              "     std_satisfaction   avg_income  median_income  income_inequality  \\\n",
              "49               1.81  15437.59500    13163.07000          34.126250   \n",
              "44               1.85  16657.77000    13823.16000          32.418750   \n",
              "90               1.72  17032.75500    15166.60500          26.950000   \n",
              "36               1.98  17099.55000    14172.73500          34.432500   \n",
              "7                1.72  17168.50500    15166.45500          28.745000   \n",
              "33               1.53  17310.19500    14962.56000          27.723750   \n",
              "27               1.53  17496.51000    15630.88500          28.155000   \n",
              "34               2.15  18096.78857    14971.25143          32.255714   \n",
              "76               1.38  18234.43500    15880.54500          29.271250   \n",
              "48               1.64  18828.34500    16179.31500          28.780000   \n",
              "25               1.99  19285.96000    16291.26000          31.541667   \n",
              "3                2.11  19457.04000    16879.62000          30.296250   \n",
              "4                1.80  19917.00000    15846.06000          35.285000   \n",
              "16               1.71  20190.78000    16829.10000          33.790000   \n",
              "77               1.62  21877.71000    19477.62000          27.307500   \n",
              "105              1.92  23127.00000    17925.36000          41.090000   \n",
              "17               1.62  23400.04000    19442.92000          32.930000   \n",
              "61               1.76  26182.27500    22240.23000          31.950000   \n",
              "\n",
              "                          region      GDP  happyScore  \n",
              "49              'Western Europe'  1.25114       5.948  \n",
              "44              'Western Europe'  1.33596       6.940  \n",
              "90              'Western Europe'  1.33171       7.364  \n",
              "36              'Western Europe'  1.26637       6.867  \n",
              "7               'Western Europe'  1.30782       6.937  \n",
              "33              'Western Europe'  1.29025       7.406  \n",
              "27              'Western Europe'  1.32548       7.527  \n",
              "34              'Western Europe'  1.27778       6.575  \n",
              "76              'Western Europe'  1.32944       7.378  \n",
              "48              'Western Europe'  1.30232       7.561  \n",
              "25              'Western Europe'  1.32792       6.750  \n",
              "3               'Western Europe'  1.33723       7.200  \n",
              "4    'Australia and New Zealand'  1.33358       7.284  \n",
              "16               'North America'  1.32629       7.427  \n",
              "77              'Western Europe'  1.45900       7.522  \n",
              "105              'North America'  1.39451       7.119  \n",
              "17              'Western Europe'  1.39651       7.587  \n",
              "61              'Western Europe'  1.56391       6.946  "
            ],
            "text/html": [
              "\n",
              "  <div id=\"df-3a31aa8c-1dc6-43a6-b90e-26a2b391163a\">\n",
              "    <div class=\"colab-df-container\">\n",
              "      <div>\n",
              "<style scoped>\n",
              "    .dataframe tbody tr th:only-of-type {\n",
              "        vertical-align: middle;\n",
              "    }\n",
              "\n",
              "    .dataframe tbody tr th {\n",
              "        vertical-align: top;\n",
              "    }\n",
              "\n",
              "    .dataframe thead th {\n",
              "        text-align: right;\n",
              "    }\n",
              "</style>\n",
              "<table border=\"1\" class=\"dataframe\">\n",
              "  <thead>\n",
              "    <tr style=\"text-align: right;\">\n",
              "      <th></th>\n",
              "      <th>country</th>\n",
              "      <th>adjusted_satisfaction</th>\n",
              "      <th>avg_satisfaction</th>\n",
              "      <th>std_satisfaction</th>\n",
              "      <th>avg_income</th>\n",
              "      <th>median_income</th>\n",
              "      <th>income_inequality</th>\n",
              "      <th>region</th>\n",
              "      <th>GDP</th>\n",
              "      <th>happyScore</th>\n",
              "    </tr>\n",
              "  </thead>\n",
              "  <tbody>\n",
              "    <tr>\n",
              "      <th>49</th>\n",
              "      <td>Italy</td>\n",
              "      <td>57</td>\n",
              "      <td>6.6</td>\n",
              "      <td>1.81</td>\n",
              "      <td>15437.59500</td>\n",
              "      <td>13163.07000</td>\n",
              "      <td>34.126250</td>\n",
              "      <td>'Western Europe'</td>\n",
              "      <td>1.25114</td>\n",
              "      <td>5.948</td>\n",
              "    </tr>\n",
              "    <tr>\n",
              "      <th>44</th>\n",
              "      <td>Ireland</td>\n",
              "      <td>64</td>\n",
              "      <td>7.5</td>\n",
              "      <td>1.85</td>\n",
              "      <td>16657.77000</td>\n",
              "      <td>13823.16000</td>\n",
              "      <td>32.418750</td>\n",
              "      <td>'Western Europe'</td>\n",
              "      <td>1.33596</td>\n",
              "      <td>6.940</td>\n",
              "    </tr>\n",
              "    <tr>\n",
              "      <th>90</th>\n",
              "      <td>Sweden</td>\n",
              "      <td>67</td>\n",
              "      <td>7.8</td>\n",
              "      <td>1.72</td>\n",
              "      <td>17032.75500</td>\n",
              "      <td>15166.60500</td>\n",
              "      <td>26.950000</td>\n",
              "      <td>'Western Europe'</td>\n",
              "      <td>1.33171</td>\n",
              "      <td>7.364</td>\n",
              "    </tr>\n",
              "    <tr>\n",
              "      <th>36</th>\n",
              "      <td>United Kingdom</td>\n",
              "      <td>60</td>\n",
              "      <td>7.1</td>\n",
              "      <td>1.98</td>\n",
              "      <td>17099.55000</td>\n",
              "      <td>14172.73500</td>\n",
              "      <td>34.432500</td>\n",
              "      <td>'Western Europe'</td>\n",
              "      <td>1.26637</td>\n",
              "      <td>6.867</td>\n",
              "    </tr>\n",
              "    <tr>\n",
              "      <th>7</th>\n",
              "      <td>Belgium</td>\n",
              "      <td>63</td>\n",
              "      <td>7.2</td>\n",
              "      <td>1.72</td>\n",
              "      <td>17168.50500</td>\n",
              "      <td>15166.45500</td>\n",
              "      <td>28.745000</td>\n",
              "      <td>'Western Europe'</td>\n",
              "      <td>1.30782</td>\n",
              "      <td>6.937</td>\n",
              "    </tr>\n",
              "    <tr>\n",
              "      <th>33</th>\n",
              "      <td>Finland</td>\n",
              "      <td>70</td>\n",
              "      <td>7.9</td>\n",
              "      <td>1.53</td>\n",
              "      <td>17310.19500</td>\n",
              "      <td>14962.56000</td>\n",
              "      <td>27.723750</td>\n",
              "      <td>'Western Europe'</td>\n",
              "      <td>1.29025</td>\n",
              "      <td>7.406</td>\n",
              "    </tr>\n",
              "    <tr>\n",
              "      <th>27</th>\n",
              "      <td>Denmark</td>\n",
              "      <td>74</td>\n",
              "      <td>8.4</td>\n",
              "      <td>1.53</td>\n",
              "      <td>17496.51000</td>\n",
              "      <td>15630.88500</td>\n",
              "      <td>28.155000</td>\n",
              "      <td>'Western Europe'</td>\n",
              "      <td>1.32548</td>\n",
              "      <td>7.527</td>\n",
              "    </tr>\n",
              "    <tr>\n",
              "      <th>34</th>\n",
              "      <td>France</td>\n",
              "      <td>52</td>\n",
              "      <td>6.4</td>\n",
              "      <td>2.15</td>\n",
              "      <td>18096.78857</td>\n",
              "      <td>14971.25143</td>\n",
              "      <td>32.255714</td>\n",
              "      <td>'Western Europe'</td>\n",
              "      <td>1.27778</td>\n",
              "      <td>6.575</td>\n",
              "    </tr>\n",
              "    <tr>\n",
              "      <th>76</th>\n",
              "      <td>Netherlands</td>\n",
              "      <td>69</td>\n",
              "      <td>7.6</td>\n",
              "      <td>1.38</td>\n",
              "      <td>18234.43500</td>\n",
              "      <td>15880.54500</td>\n",
              "      <td>29.271250</td>\n",
              "      <td>'Western Europe'</td>\n",
              "      <td>1.32944</td>\n",
              "      <td>7.378</td>\n",
              "    </tr>\n",
              "    <tr>\n",
              "      <th>48</th>\n",
              "      <td>Iceland</td>\n",
              "      <td>71</td>\n",
              "      <td>8.1</td>\n",
              "      <td>1.64</td>\n",
              "      <td>18828.34500</td>\n",
              "      <td>16179.31500</td>\n",
              "      <td>28.780000</td>\n",
              "      <td>'Western Europe'</td>\n",
              "      <td>1.30232</td>\n",
              "      <td>7.561</td>\n",
              "    </tr>\n",
              "    <tr>\n",
              "      <th>25</th>\n",
              "      <td>Germany</td>\n",
              "      <td>61</td>\n",
              "      <td>7.2</td>\n",
              "      <td>1.99</td>\n",
              "      <td>19285.96000</td>\n",
              "      <td>16291.26000</td>\n",
              "      <td>31.541667</td>\n",
              "      <td>'Western Europe'</td>\n",
              "      <td>1.32792</td>\n",
              "      <td>6.750</td>\n",
              "    </tr>\n",
              "    <tr>\n",
              "      <th>3</th>\n",
              "      <td>Austria</td>\n",
              "      <td>59</td>\n",
              "      <td>7.2</td>\n",
              "      <td>2.11</td>\n",
              "      <td>19457.04000</td>\n",
              "      <td>16879.62000</td>\n",
              "      <td>30.296250</td>\n",
              "      <td>'Western Europe'</td>\n",
              "      <td>1.33723</td>\n",
              "      <td>7.200</td>\n",
              "    </tr>\n",
              "    <tr>\n",
              "      <th>4</th>\n",
              "      <td>Australia</td>\n",
              "      <td>65</td>\n",
              "      <td>7.6</td>\n",
              "      <td>1.80</td>\n",
              "      <td>19917.00000</td>\n",
              "      <td>15846.06000</td>\n",
              "      <td>35.285000</td>\n",
              "      <td>'Australia and New Zealand'</td>\n",
              "      <td>1.33358</td>\n",
              "      <td>7.284</td>\n",
              "    </tr>\n",
              "    <tr>\n",
              "      <th>16</th>\n",
              "      <td>Canada</td>\n",
              "      <td>69</td>\n",
              "      <td>8.0</td>\n",
              "      <td>1.71</td>\n",
              "      <td>20190.78000</td>\n",
              "      <td>16829.10000</td>\n",
              "      <td>33.790000</td>\n",
              "      <td>'North America'</td>\n",
              "      <td>1.32629</td>\n",
              "      <td>7.427</td>\n",
              "    </tr>\n",
              "    <tr>\n",
              "      <th>77</th>\n",
              "      <td>Norway</td>\n",
              "      <td>70</td>\n",
              "      <td>8.0</td>\n",
              "      <td>1.62</td>\n",
              "      <td>21877.71000</td>\n",
              "      <td>19477.62000</td>\n",
              "      <td>27.307500</td>\n",
              "      <td>'Western Europe'</td>\n",
              "      <td>1.45900</td>\n",
              "      <td>7.522</td>\n",
              "    </tr>\n",
              "    <tr>\n",
              "      <th>105</th>\n",
              "      <td>United States</td>\n",
              "      <td>62</td>\n",
              "      <td>7.3</td>\n",
              "      <td>1.92</td>\n",
              "      <td>23127.00000</td>\n",
              "      <td>17925.36000</td>\n",
              "      <td>41.090000</td>\n",
              "      <td>'North America'</td>\n",
              "      <td>1.39451</td>\n",
              "      <td>7.119</td>\n",
              "    </tr>\n",
              "    <tr>\n",
              "      <th>17</th>\n",
              "      <td>Switzerland</td>\n",
              "      <td>70</td>\n",
              "      <td>8.0</td>\n",
              "      <td>1.62</td>\n",
              "      <td>23400.04000</td>\n",
              "      <td>19442.92000</td>\n",
              "      <td>32.930000</td>\n",
              "      <td>'Western Europe'</td>\n",
              "      <td>1.39651</td>\n",
              "      <td>7.587</td>\n",
              "    </tr>\n",
              "    <tr>\n",
              "      <th>61</th>\n",
              "      <td>Luxembourg</td>\n",
              "      <td>66</td>\n",
              "      <td>7.7</td>\n",
              "      <td>1.76</td>\n",
              "      <td>26182.27500</td>\n",
              "      <td>22240.23000</td>\n",
              "      <td>31.950000</td>\n",
              "      <td>'Western Europe'</td>\n",
              "      <td>1.56391</td>\n",
              "      <td>6.946</td>\n",
              "    </tr>\n",
              "  </tbody>\n",
              "</table>\n",
              "</div>\n",
              "      <button class=\"colab-df-convert\" onclick=\"convertToInteractive('df-3a31aa8c-1dc6-43a6-b90e-26a2b391163a')\"\n",
              "              title=\"Convert this dataframe to an interactive table.\"\n",
              "              style=\"display:none;\">\n",
              "        \n",
              "  <svg xmlns=\"http://www.w3.org/2000/svg\" height=\"24px\"viewBox=\"0 0 24 24\"\n",
              "       width=\"24px\">\n",
              "    <path d=\"M0 0h24v24H0V0z\" fill=\"none\"/>\n",
              "    <path d=\"M18.56 5.44l.94 2.06.94-2.06 2.06-.94-2.06-.94-.94-2.06-.94 2.06-2.06.94zm-11 1L8.5 8.5l.94-2.06 2.06-.94-2.06-.94L8.5 2.5l-.94 2.06-2.06.94zm10 10l.94 2.06.94-2.06 2.06-.94-2.06-.94-.94-2.06-.94 2.06-2.06.94z\"/><path d=\"M17.41 7.96l-1.37-1.37c-.4-.4-.92-.59-1.43-.59-.52 0-1.04.2-1.43.59L10.3 9.45l-7.72 7.72c-.78.78-.78 2.05 0 2.83L4 21.41c.39.39.9.59 1.41.59.51 0 1.02-.2 1.41-.59l7.78-7.78 2.81-2.81c.8-.78.8-2.07 0-2.86zM5.41 20L4 18.59l7.72-7.72 1.47 1.35L5.41 20z\"/>\n",
              "  </svg>\n",
              "      </button>\n",
              "      \n",
              "  <style>\n",
              "    .colab-df-container {\n",
              "      display:flex;\n",
              "      flex-wrap:wrap;\n",
              "      gap: 12px;\n",
              "    }\n",
              "\n",
              "    .colab-df-convert {\n",
              "      background-color: #E8F0FE;\n",
              "      border: none;\n",
              "      border-radius: 50%;\n",
              "      cursor: pointer;\n",
              "      display: none;\n",
              "      fill: #1967D2;\n",
              "      height: 32px;\n",
              "      padding: 0 0 0 0;\n",
              "      width: 32px;\n",
              "    }\n",
              "\n",
              "    .colab-df-convert:hover {\n",
              "      background-color: #E2EBFA;\n",
              "      box-shadow: 0px 1px 2px rgba(60, 64, 67, 0.3), 0px 1px 3px 1px rgba(60, 64, 67, 0.15);\n",
              "      fill: #174EA6;\n",
              "    }\n",
              "\n",
              "    [theme=dark] .colab-df-convert {\n",
              "      background-color: #3B4455;\n",
              "      fill: #D2E3FC;\n",
              "    }\n",
              "\n",
              "    [theme=dark] .colab-df-convert:hover {\n",
              "      background-color: #434B5C;\n",
              "      box-shadow: 0px 1px 3px 1px rgba(0, 0, 0, 0.15);\n",
              "      filter: drop-shadow(0px 1px 2px rgba(0, 0, 0, 0.3));\n",
              "      fill: #FFFFFF;\n",
              "    }\n",
              "  </style>\n",
              "\n",
              "      <script>\n",
              "        const buttonEl =\n",
              "          document.querySelector('#df-3a31aa8c-1dc6-43a6-b90e-26a2b391163a button.colab-df-convert');\n",
              "        buttonEl.style.display =\n",
              "          google.colab.kernel.accessAllowed ? 'block' : 'none';\n",
              "\n",
              "        async function convertToInteractive(key) {\n",
              "          const element = document.querySelector('#df-3a31aa8c-1dc6-43a6-b90e-26a2b391163a');\n",
              "          const dataTable =\n",
              "            await google.colab.kernel.invokeFunction('convertToInteractive',\n",
              "                                                     [key], {});\n",
              "          if (!dataTable) return;\n",
              "\n",
              "          const docLinkHtml = 'Like what you see? Visit the ' +\n",
              "            '<a target=\"_blank\" href=https://colab.research.google.com/notebooks/data_table.ipynb>data table notebook</a>'\n",
              "            + ' to learn more about interactive tables.';\n",
              "          element.innerHTML = '';\n",
              "          dataTable['output_type'] = 'display_data';\n",
              "          await google.colab.output.renderOutput(dataTable, element);\n",
              "          const docLink = document.createElement('div');\n",
              "          docLink.innerHTML = docLinkHtml;\n",
              "          element.appendChild(docLink);\n",
              "        }\n",
              "      </script>\n",
              "    </div>\n",
              "  </div>\n",
              "  "
            ]
          },
          "metadata": {},
          "execution_count": 9
        }
      ]
    },
    {
      "cell_type": "code",
      "source": [
        "mean_rich = np.mean(rich['avg_income'])\n",
        "all_mean = np.mean(data['avg_income'])\n",
        "print(mean_rich)\n",
        "print(all_mean)"
      ],
      "metadata": {
        "colab": {
          "base_uri": "https://localhost:8080/"
        },
        "id": "sM3wQXxINNYv",
        "outputId": "e2c97033-2c63-4edf-eaba-04f070c79804"
      },
      "execution_count": 10,
      "outputs": [
        {
          "output_type": "stream",
          "name": "stdout",
          "text": [
            "19266.68075388889\n",
            "6442.751416180181\n"
          ]
        }
      ]
    },
    {
      "cell_type": "code",
      "source": [
        "rich.columns.size"
      ],
      "metadata": {
        "colab": {
          "base_uri": "https://localhost:8080/"
        },
        "id": "8YZ9f1mRVgc_",
        "outputId": "c723abea-ace2-4a2e-9ccd-d085f6e1d30c"
      },
      "execution_count": 11,
      "outputs": [
        {
          "output_type": "execute_result",
          "data": {
            "text/plain": [
              "10"
            ]
          },
          "metadata": {},
          "execution_count": 11
        }
      ]
    },
    {
      "cell_type": "code",
      "source": [
        "plt.scatter(rich['avg_income'], rich['happyScore'])\n",
        "for i,row in rich.iterrows():\n",
        "  plt.text(row['avg_income'], row['happyScore']\n",
        "         ,row['country'])\n"
      ],
      "metadata": {
        "colab": {
          "base_uri": "https://localhost:8080/",
          "height": 265
        },
        "id": "vujKHsT3TWgG",
        "outputId": "f078115d-5bdc-4e15-c017-8c7c514ac6cf"
      },
      "execution_count": 12,
      "outputs": [
        {
          "output_type": "display_data",
          "data": {
            "text/plain": [
              "<Figure size 432x288 with 1 Axes>"
            ],
            "image/png": "[encoded data removed]"
          },
          "metadata": {
            "needs_background": "light"
          }
        }
      ]
    },
    {
      "cell_type": "code",
      "source": [
        "[plt.text(row['avg_income'], row['happyScore']\n",
        "         ,row['country']) for k,row in rich.iterrows()]"
      ],
      "metadata": {
        "id": "GPve6n53TWdE",
        "colab": {
          "base_uri": "https://localhost:8080/",
          "height": 710
        },
        "outputId": "9ce19995-643d-4528-838a-61d86b2f9f3c"
      },
      "execution_count": 13,
      "outputs": [
        {
          "output_type": "execute_result",
          "data": {
            "text/plain": [
              "[Text(15437.595, 5.948, 'Italy'),\n",
              " Text(16657.77, 6.94, 'Ireland'),\n",
              " Text(17032.755, 7.364, 'Sweden'),\n",
              " Text(17099.55, 6.867, 'United Kingdom'),\n",
              " Text(17168.505, 6.937, 'Belgium'),\n",
              " Text(17310.195, 7.406, 'Finland'),\n",
              " Text(17496.51, 7.527, 'Denmark'),\n",
              " Text(18096.78857, 6.575, 'France'),\n",
              " Text(18234.435, 7.378, 'Netherlands'),\n",
              " Text(18828.345, 7.561, 'Iceland'),\n",
              " Text(19285.96, 6.75, 'Germany'),\n",
              " Text(19457.04, 7.2, 'Austria'),\n",
              " Text(19917.0, 7.284, 'Australia'),\n",
              " Text(20190.78, 7.427, 'Canada'),\n",
              " Text(21877.71, 7.522, 'Norway'),\n",
              " Text(23127.0, 7.119, 'United States'),\n",
              " Text(23400.04, 7.587, 'Switzerland'),\n",
              " Text(26182.275, 6.946, 'Luxembourg')]"
            ]
          },
          "metadata": {},
          "execution_count": 13
        },
        {
          "output_type": "error",
          "ename": "ValueError",
          "evalue": "ignored",
          "traceback": [
            "\u001b[0;31m---------------------------------------------------------------------------\u001b[0m",
            "\u001b[0;31mValueError\u001b[0m                                Traceback (most recent call last)",
            "\u001b[0;32m/usr/local/lib/python3.7/dist-packages/IPython/core/formatters.py\u001b[0m in \u001b[0;36m__call__\u001b[0;34m(self, obj)\u001b[0m\n\u001b[1;32m    339\u001b[0m                 \u001b[0;32mpass\u001b[0m\u001b[0;34m\u001b[0m\u001b[0;34m\u001b[0m\u001b[0m\n\u001b[1;32m    340\u001b[0m             \u001b[0;32melse\u001b[0m\u001b[0;34m:\u001b[0m\u001b[0;34m\u001b[0m\u001b[0;34m\u001b[0m\u001b[0m\n\u001b[0;32m--> 341\u001b[0;31m                 \u001b[0;32mreturn\u001b[0m \u001b[0mprinter\u001b[0m\u001b[0;34m(\u001b[0m\u001b[0mobj\u001b[0m\u001b[0;34m)\u001b[0m\u001b[0;34m\u001b[0m\u001b[0;34m\u001b[0m\u001b[0m\n\u001b[0m\u001b[1;32m    342\u001b[0m             \u001b[0;31m# Finally look for special method names\u001b[0m\u001b[0;34m\u001b[0m\u001b[0;34m\u001b[0m\u001b[0;34m\u001b[0m\u001b[0m\n\u001b[1;32m    343\u001b[0m             \u001b[0mmethod\u001b[0m \u001b[0;34m=\u001b[0m \u001b[0mget_real_method\u001b[0m\u001b[0;34m(\u001b[0m\u001b[0mobj\u001b[0m\u001b[0;34m,\u001b[0m \u001b[0mself\u001b[0m\u001b[0;34m.\u001b[0m\u001b[0mprint_method\u001b[0m\u001b[0;34m)\u001b[0m\u001b[0;34m\u001b[0m\u001b[0;34m\u001b[0m\u001b[0m\n",
            "\u001b[0;32m/usr/local/lib/python3.7/dist-packages/IPython/core/pylabtools.py\u001b[0m in \u001b[0;36m<lambda>\u001b[0;34m(fig)\u001b[0m\n\u001b[1;32m    242\u001b[0m \u001b[0;34m\u001b[0m\u001b[0m\n\u001b[1;32m    243\u001b[0m     \u001b[0;32mif\u001b[0m \u001b[0;34m'png'\u001b[0m \u001b[0;32min\u001b[0m \u001b[0mformats\u001b[0m\u001b[0;34m:\u001b[0m\u001b[0;34m\u001b[0m\u001b[0;34m\u001b[0m\u001b[0m\n\u001b[0;32m--> 244\u001b[0;31m         \u001b[0mpng_formatter\u001b[0m\u001b[0;34m.\u001b[0m\u001b[0mfor_type\u001b[0m\u001b[0;34m(\u001b[0m\u001b[0mFigure\u001b[0m\u001b[0;34m,\u001b[0m \u001b[0;32mlambda\u001b[0m \u001b[0mfig\u001b[0m\u001b[0;34m:\u001b[0m \u001b[0mprint_figure\u001b[0m\u001b[0;34m(\u001b[0m\u001b[0mfig\u001b[0m\u001b[0;34m,\u001b[0m \u001b[0;34m'png'\u001b[0m\u001b[0;34m,\u001b[0m \u001b[0;34m**\u001b[0m\u001b[0mkwargs\u001b[0m\u001b[0;34m)\u001b[0m\u001b[0;34m)\u001b[0m\u001b[0;34m\u001b[0m\u001b[0;34m\u001b[0m\u001b[0m\n\u001b[0m\u001b[1;32m    245\u001b[0m     \u001b[0;32mif\u001b[0m \u001b[0;34m'retina'\u001b[0m \u001b[0;32min\u001b[0m \u001b[0mformats\u001b[0m \u001b[0;32mor\u001b[0m \u001b[0;34m'png2x'\u001b[0m \u001b[0;32min\u001b[0m \u001b[0mformats\u001b[0m\u001b[0;34m:\u001b[0m\u001b[0;34m\u001b[0m\u001b[0;34m\u001b[0m\u001b[0m\n\u001b[1;32m    246\u001b[0m         \u001b[0mpng_formatter\u001b[0m\u001b[0;34m.\u001b[0m\u001b[0mfor_type\u001b[0m\u001b[0;34m(\u001b[0m\u001b[0mFigure\u001b[0m\u001b[0;34m,\u001b[0m \u001b[0;32mlambda\u001b[0m \u001b[0mfig\u001b[0m\u001b[0;34m:\u001b[0m \u001b[0mretina_figure\u001b[0m\u001b[0;34m(\u001b[0m\u001b[0mfig\u001b[0m\u001b[0;34m,\u001b[0m \u001b[0;34m**\u001b[0m\u001b[0mkwargs\u001b[0m\u001b[0;34m)\u001b[0m\u001b[0;34m)\u001b[0m\u001b[0;34m\u001b[0m\u001b[0;34m\u001b[0m\u001b[0m\n",
            "\u001b[0;32m/usr/local/lib/python3.7/dist-packages/IPython/core/pylabtools.py\u001b[0m in \u001b[0;36mprint_figure\u001b[0;34m(fig, fmt, bbox_inches, **kwargs)\u001b[0m\n\u001b[1;32m    126\u001b[0m \u001b[0;34m\u001b[0m\u001b[0m\n\u001b[1;32m    127\u001b[0m     \u001b[0mbytes_io\u001b[0m \u001b[0;34m=\u001b[0m \u001b[0mBytesIO\u001b[0m\u001b[0;34m(\u001b[0m\u001b[0;34m)\u001b[0m\u001b[0;34m\u001b[0m\u001b[0;34m\u001b[0m\u001b[0m\n\u001b[0;32m--> 128\u001b[0;31m     \u001b[0mfig\u001b[0m\u001b[0;34m.\u001b[0m\u001b[0mcanvas\u001b[0m\u001b[0;34m.\u001b[0m\u001b[0mprint_figure\u001b[0m\u001b[0;34m(\u001b[0m\u001b[0mbytes_io\u001b[0m\u001b[0;34m,\u001b[0m \u001b[0;34m**\u001b[0m\u001b[0mkw\u001b[0m\u001b[0;34m)\u001b[0m\u001b[0;34m\u001b[0m\u001b[0;34m\u001b[0m\u001b[0m\n\u001b[0m\u001b[1;32m    129\u001b[0m     \u001b[0mdata\u001b[0m \u001b[0;34m=\u001b[0m \u001b[0mbytes_io\u001b[0m\u001b[0;34m.\u001b[0m\u001b[0mgetvalue\u001b[0m\u001b[0;34m(\u001b[0m\u001b[0;34m)\u001b[0m\u001b[0;34m\u001b[0m\u001b[0;34m\u001b[0m\u001b[0m\n\u001b[1;32m    130\u001b[0m     \u001b[0;32mif\u001b[0m \u001b[0mfmt\u001b[0m \u001b[0;34m==\u001b[0m \u001b[0;34m'svg'\u001b[0m\u001b[0;34m:\u001b[0m\u001b[0;34m\u001b[0m\u001b[0;34m\u001b[0m\u001b[0m\n",
            "\u001b[0;32m/usr/local/lib/python3.7/dist-packages/matplotlib/backend_bases.py\u001b[0m in \u001b[0;36mprint_figure\u001b[0;34m(self, filename, dpi, facecolor, edgecolor, orientation, format, bbox_inches, **kwargs)\u001b[0m\n\u001b[1;32m   2124\u001b[0m                     \u001b[0morientation\u001b[0m\u001b[0;34m=\u001b[0m\u001b[0morientation\u001b[0m\u001b[0;34m,\u001b[0m\u001b[0;34m\u001b[0m\u001b[0;34m\u001b[0m\u001b[0m\n\u001b[1;32m   2125\u001b[0m                     \u001b[0mbbox_inches_restore\u001b[0m\u001b[0;34m=\u001b[0m\u001b[0m_bbox_inches_restore\u001b[0m\u001b[0;34m,\u001b[0m\u001b[0;34m\u001b[0m\u001b[0;34m\u001b[0m\u001b[0m\n\u001b[0;32m-> 2126\u001b[0;31m                     **kwargs)\n\u001b[0m\u001b[1;32m   2127\u001b[0m             \u001b[0;32mfinally\u001b[0m\u001b[0;34m:\u001b[0m\u001b[0;34m\u001b[0m\u001b[0;34m\u001b[0m\u001b[0m\n\u001b[1;32m   2128\u001b[0m                 \u001b[0;32mif\u001b[0m \u001b[0mbbox_inches\u001b[0m \u001b[0;32mand\u001b[0m \u001b[0mrestore_bbox\u001b[0m\u001b[0;34m:\u001b[0m\u001b[0;34m\u001b[0m\u001b[0;34m\u001b[0m\u001b[0m\n",
            "\u001b[0;32m/usr/local/lib/python3.7/dist-packages/matplotlib/backends/backend_agg.py\u001b[0m in \u001b[0;36mprint_png\u001b[0;34m(self, filename_or_obj, metadata, pil_kwargs, *args, **kwargs)\u001b[0m\n\u001b[1;32m    512\u001b[0m         }\n\u001b[1;32m    513\u001b[0m \u001b[0;34m\u001b[0m\u001b[0m\n\u001b[0;32m--> 514\u001b[0;31m         \u001b[0mFigureCanvasAgg\u001b[0m\u001b[0;34m.\u001b[0m\u001b[0mdraw\u001b[0m\u001b[0;34m(\u001b[0m\u001b[0mself\u001b[0m\u001b[0;34m)\u001b[0m\u001b[0;34m\u001b[0m\u001b[0;34m\u001b[0m\u001b[0m\n\u001b[0m\u001b[1;32m    515\u001b[0m         \u001b[0;32mif\u001b[0m \u001b[0mpil_kwargs\u001b[0m \u001b[0;32mis\u001b[0m \u001b[0;32mnot\u001b[0m \u001b[0;32mNone\u001b[0m\u001b[0;34m:\u001b[0m\u001b[0;34m\u001b[0m\u001b[0;34m\u001b[0m\u001b[0m\n\u001b[1;32m    516\u001b[0m             \u001b[0;32mfrom\u001b[0m \u001b[0mPIL\u001b[0m \u001b[0;32mimport\u001b[0m \u001b[0mImage\u001b[0m\u001b[0;34m\u001b[0m\u001b[0;34m\u001b[0m\u001b[0m\n",
            "\u001b[0;32m/usr/local/lib/python3.7/dist-packages/matplotlib/backends/backend_agg.py\u001b[0m in \u001b[0;36mdraw\u001b[0;34m(self)\u001b[0m\n\u001b[1;32m    386\u001b[0m         \u001b[0mDraw\u001b[0m \u001b[0mthe\u001b[0m \u001b[0mfigure\u001b[0m \u001b[0musing\u001b[0m \u001b[0mthe\u001b[0m \u001b[0mrenderer\u001b[0m\u001b[0;34m.\u001b[0m\u001b[0;34m\u001b[0m\u001b[0;34m\u001b[0m\u001b[0m\n\u001b[1;32m    387\u001b[0m         \"\"\"\n\u001b[0;32m--> 388\u001b[0;31m         \u001b[0mself\u001b[0m\u001b[0;34m.\u001b[0m\u001b[0mrenderer\u001b[0m \u001b[0;34m=\u001b[0m \u001b[0mself\u001b[0m\u001b[0;34m.\u001b[0m\u001b[0mget_renderer\u001b[0m\u001b[0;34m(\u001b[0m\u001b[0mcleared\u001b[0m\u001b[0;34m=\u001b[0m\u001b[0;32mTrue\u001b[0m\u001b[0;34m)\u001b[0m\u001b[0;34m\u001b[0m\u001b[0;34m\u001b[0m\u001b[0m\n\u001b[0m\u001b[1;32m    389\u001b[0m         \u001b[0;31m# Acquire a lock on the shared font cache.\u001b[0m\u001b[0;34m\u001b[0m\u001b[0;34m\u001b[0m\u001b[0;34m\u001b[0m\u001b[0m\n\u001b[1;32m    390\u001b[0m         \u001b[0;32mwith\u001b[0m \u001b[0mRendererAgg\u001b[0m\u001b[0;34m.\u001b[0m\u001b[0mlock\u001b[0m\u001b[0;34m,\u001b[0m\u001b[0;31m \u001b[0m\u001b[0;31m\\\u001b[0m\u001b[0;34m\u001b[0m\u001b[0;34m\u001b[0m\u001b[0m\n",
            "\u001b[0;32m/usr/local/lib/python3.7/dist-packages/matplotlib/backends/backend_agg.py\u001b[0m in \u001b[0;36mget_renderer\u001b[0;34m(self, cleared)\u001b[0m\n\u001b[1;32m    402\u001b[0m                           and getattr(self, \"_lastKey\", None) == key)\n\u001b[1;32m    403\u001b[0m         \u001b[0;32mif\u001b[0m \u001b[0;32mnot\u001b[0m \u001b[0mreuse_renderer\u001b[0m\u001b[0;34m:\u001b[0m\u001b[0;34m\u001b[0m\u001b[0;34m\u001b[0m\u001b[0m\n\u001b[0;32m--> 404\u001b[0;31m             \u001b[0mself\u001b[0m\u001b[0;34m.\u001b[0m\u001b[0mrenderer\u001b[0m \u001b[0;34m=\u001b[0m \u001b[0mRendererAgg\u001b[0m\u001b[0;34m(\u001b[0m\u001b[0mw\u001b[0m\u001b[0;34m,\u001b[0m \u001b[0mh\u001b[0m\u001b[0;34m,\u001b[0m \u001b[0mself\u001b[0m\u001b[0;34m.\u001b[0m\u001b[0mfigure\u001b[0m\u001b[0;34m.\u001b[0m\u001b[0mdpi\u001b[0m\u001b[0;34m)\u001b[0m\u001b[0;34m\u001b[0m\u001b[0;34m\u001b[0m\u001b[0m\n\u001b[0m\u001b[1;32m    405\u001b[0m             \u001b[0mself\u001b[0m\u001b[0;34m.\u001b[0m\u001b[0m_lastKey\u001b[0m \u001b[0;34m=\u001b[0m \u001b[0mkey\u001b[0m\u001b[0;34m\u001b[0m\u001b[0;34m\u001b[0m\u001b[0m\n\u001b[1;32m    406\u001b[0m         \u001b[0;32melif\u001b[0m \u001b[0mcleared\u001b[0m\u001b[0;34m:\u001b[0m\u001b[0;34m\u001b[0m\u001b[0;34m\u001b[0m\u001b[0m\n",
            "\u001b[0;32m/usr/local/lib/python3.7/dist-packages/matplotlib/backends/backend_agg.py\u001b[0m in \u001b[0;36m__init__\u001b[0;34m(self, width, height, dpi)\u001b[0m\n\u001b[1;32m     90\u001b[0m         \u001b[0mself\u001b[0m\u001b[0;34m.\u001b[0m\u001b[0mwidth\u001b[0m \u001b[0;34m=\u001b[0m \u001b[0mwidth\u001b[0m\u001b[0;34m\u001b[0m\u001b[0;34m\u001b[0m\u001b[0m\n\u001b[1;32m     91\u001b[0m         \u001b[0mself\u001b[0m\u001b[0;34m.\u001b[0m\u001b[0mheight\u001b[0m \u001b[0;34m=\u001b[0m \u001b[0mheight\u001b[0m\u001b[0;34m\u001b[0m\u001b[0;34m\u001b[0m\u001b[0m\n\u001b[0;32m---> 92\u001b[0;31m         \u001b[0mself\u001b[0m\u001b[0;34m.\u001b[0m\u001b[0m_renderer\u001b[0m \u001b[0;34m=\u001b[0m \u001b[0m_RendererAgg\u001b[0m\u001b[0;34m(\u001b[0m\u001b[0mint\u001b[0m\u001b[0;34m(\u001b[0m\u001b[0mwidth\u001b[0m\u001b[0;34m)\u001b[0m\u001b[0;34m,\u001b[0m \u001b[0mint\u001b[0m\u001b[0;34m(\u001b[0m\u001b[0mheight\u001b[0m\u001b[0;34m)\u001b[0m\u001b[0;34m,\u001b[0m \u001b[0mdpi\u001b[0m\u001b[0;34m)\u001b[0m\u001b[0;34m\u001b[0m\u001b[0;34m\u001b[0m\u001b[0m\n\u001b[0m\u001b[1;32m     93\u001b[0m         \u001b[0mself\u001b[0m\u001b[0;34m.\u001b[0m\u001b[0m_filter_renderers\u001b[0m \u001b[0;34m=\u001b[0m \u001b[0;34m[\u001b[0m\u001b[0;34m]\u001b[0m\u001b[0;34m\u001b[0m\u001b[0;34m\u001b[0m\u001b[0m\n\u001b[1;32m     94\u001b[0m \u001b[0;34m\u001b[0m\u001b[0m\n",
            "\u001b[0;31mValueError\u001b[0m: Image size of 8765925x1689 pixels is too large. It must be less than 2^16 in each direction."
          ]
        },
        {
          "output_type": "display_data",
          "data": {
            "text/plain": [
              "<Figure size 432x288 with 1 Axes>"
            ]
          },
          "metadata": {
            "needs_background": "light"
          }
        }
      ]
    },
    {
      "cell_type": "code",
      "source": [
        "temp = data.copy()\n",
        "temp.drop(['country', 'region'], inplace = True, axis = 1) "
      ],
      "metadata": {
        "id": "nNsE40GFe3DP"
      },
      "execution_count": 14,
      "outputs": []
    },
    {
      "cell_type": "code",
      "source": [
        "temp"
      ],
      "metadata": {
        "colab": {
          "base_uri": "https://localhost:8080/",
          "height": 424
        },
        "id": "eY7XS2LSf65s",
        "outputId": "e184b6ec-433a-4b41-a0ca-c8d875fd46de"
      },
      "execution_count": 15,
      "outputs": [
        {
          "output_type": "execute_result",
          "data": {
            "text/plain": [
              "     adjusted_satisfaction  avg_satisfaction  std_satisfaction  avg_income  \\\n",
              "10                      25               2.9              1.96     572.880   \n",
              "65                      33               3.7              1.86     574.200   \n",
              "58                      37               4.4              2.02     653.040   \n",
              "72                      34               3.8              1.76     714.720   \n",
              "73                      34               3.8              1.75     718.400   \n",
              "..                     ...               ...               ...         ...   \n",
              "16                      69               8.0              1.71   20190.780   \n",
              "77                      70               8.0              1.62   21877.710   \n",
              "105                     62               7.3              1.92   23127.000   \n",
              "17                      70               8.0              1.62   23400.040   \n",
              "61                      66               7.7              1.76   26182.275   \n",
              "\n",
              "     median_income  income_inequality      GDP  happyScore  \n",
              "10          436.92          33.360000  0.01530       2.905  \n",
              "65          415.48          40.720000  0.20824       3.681  \n",
              "58          528.72          36.480000  0.07120       4.571  \n",
              "72          488.52          45.580000  0.08308       4.971  \n",
              "73          535.56          37.726667  0.06940       3.845  \n",
              "..             ...                ...      ...         ...  \n",
              "16        16829.10          33.790000  1.32629       7.427  \n",
              "77        19477.62          27.307500  1.45900       7.522  \n",
              "105       17925.36          41.090000  1.39451       7.119  \n",
              "17        19442.92          32.930000  1.39651       7.587  \n",
              "61        22240.23          31.950000  1.56391       6.946  \n",
              "\n",
              "[111 rows x 8 columns]"
            ],
            "text/html": [
              "\n",
              "  <div id=\"df-56523691-2fb6-4afb-85a4-6358ed5c8c5a\">\n",
              "    <div class=\"colab-df-container\">\n",
              "      <div>\n",
              "<style scoped>\n",
              "    .dataframe tbody tr th:only-of-type {\n",
              "        vertical-align: middle;\n",
              "    }\n",
              "\n",
              "    .dataframe tbody tr th {\n",
              "        vertical-align: top;\n",
              "    }\n",
              "\n",
              "    .dataframe thead th {\n",
              "        text-align: right;\n",
              "    }\n",
              "</style>\n",
              "<table border=\"1\" class=\"dataframe\">\n",
              "  <thead>\n",
              "    <tr style=\"text-align: right;\">\n",
              "      <th></th>\n",
              "      <th>adjusted_satisfaction</th>\n",
              "      <th>avg_satisfaction</th>\n",
              "      <th>std_satisfaction</th>\n",
              "      <th>avg_income</th>\n",
              "      <th>median_income</th>\n",
              "      <th>income_inequality</th>\n",
              "      <th>GDP</th>\n",
              "      <th>happyScore</th>\n",
              "    </tr>\n",
              "  </thead>\n",
              "  <tbody>\n",
              "    <tr>\n",
              "      <th>10</th>\n",
              "      <td>25</td>\n",
              "      <td>2.9</td>\n",
              "      <td>1.96</td>\n",
              "      <td>572.880</td>\n",
              "      <td>436.92</td>\n",
              "      <td>33.360000</td>\n",
              "      <td>0.01530</td>\n",
              "      <td>2.905</td>\n",
              "    </tr>\n",
              "    <tr>\n",
              "      <th>65</th>\n",
              "      <td>33</td>\n",
              "      <td>3.7</td>\n",
              "      <td>1.86</td>\n",
              "      <td>574.200</td>\n",
              "      <td>415.48</td>\n",
              "      <td>40.720000</td>\n",
              "      <td>0.20824</td>\n",
              "      <td>3.681</td>\n",
              "    </tr>\n",
              "    <tr>\n",
              "      <th>58</th>\n",
              "      <td>37</td>\n",
              "      <td>4.4</td>\n",
              "      <td>2.02</td>\n",
              "      <td>653.040</td>\n",
              "      <td>528.72</td>\n",
              "      <td>36.480000</td>\n",
              "      <td>0.07120</td>\n",
              "      <td>4.571</td>\n",
              "    </tr>\n",
              "    <tr>\n",
              "      <th>72</th>\n",
              "      <td>34</td>\n",
              "      <td>3.8</td>\n",
              "      <td>1.76</td>\n",
              "      <td>714.720</td>\n",
              "      <td>488.52</td>\n",
              "      <td>45.580000</td>\n",
              "      <td>0.08308</td>\n",
              "      <td>4.971</td>\n",
              "    </tr>\n",
              "    <tr>\n",
              "      <th>73</th>\n",
              "      <td>34</td>\n",
              "      <td>3.8</td>\n",
              "      <td>1.75</td>\n",
              "      <td>718.400</td>\n",
              "      <td>535.56</td>\n",
              "      <td>37.726667</td>\n",
              "      <td>0.06940</td>\n",
              "      <td>3.845</td>\n",
              "    </tr>\n",
              "    <tr>\n",
              "      <th>...</th>\n",
              "      <td>...</td>\n",
              "      <td>...</td>\n",
              "      <td>...</td>\n",
              "      <td>...</td>\n",
              "      <td>...</td>\n",
              "      <td>...</td>\n",
              "      <td>...</td>\n",
              "      <td>...</td>\n",
              "    </tr>\n",
              "    <tr>\n",
              "      <th>16</th>\n",
              "      <td>69</td>\n",
              "      <td>8.0</td>\n",
              "      <td>1.71</td>\n",
              "      <td>20190.780</td>\n",
              "      <td>16829.10</td>\n",
              "      <td>33.790000</td>\n",
              "      <td>1.32629</td>\n",
              "      <td>7.427</td>\n",
              "    </tr>\n",
              "    <tr>\n",
              "      <th>77</th>\n",
              "      <td>70</td>\n",
              "      <td>8.0</td>\n",
              "      <td>1.62</td>\n",
              "      <td>21877.710</td>\n",
              "      <td>19477.62</td>\n",
              "      <td>27.307500</td>\n",
              "      <td>1.45900</td>\n",
              "      <td>7.522</td>\n",
              "    </tr>\n",
              "    <tr>\n",
              "      <th>105</th>\n",
              "      <td>62</td>\n",
              "      <td>7.3</td>\n",
              "      <td>1.92</td>\n",
              "      <td>23127.000</td>\n",
              "      <td>17925.36</td>\n",
              "      <td>41.090000</td>\n",
              "      <td>1.39451</td>\n",
              "      <td>7.119</td>\n",
              "    </tr>\n",
              "    <tr>\n",
              "      <th>17</th>\n",
              "      <td>70</td>\n",
              "      <td>8.0</td>\n",
              "      <td>1.62</td>\n",
              "      <td>23400.040</td>\n",
              "      <td>19442.92</td>\n",
              "      <td>32.930000</td>\n",
              "      <td>1.39651</td>\n",
              "      <td>7.587</td>\n",
              "    </tr>\n",
              "    <tr>\n",
              "      <th>61</th>\n",
              "      <td>66</td>\n",
              "      <td>7.7</td>\n",
              "      <td>1.76</td>\n",
              "      <td>26182.275</td>\n",
              "      <td>22240.23</td>\n",
              "      <td>31.950000</td>\n",
              "      <td>1.56391</td>\n",
              "      <td>6.946</td>\n",
              "    </tr>\n",
              "  </tbody>\n",
              "</table>\n",
              "<p>111 rows × 8 columns</p>\n",
              "</div>\n",
              "      <button class=\"colab-df-convert\" onclick=\"convertToInteractive('df-56523691-2fb6-4afb-85a4-6358ed5c8c5a')\"\n",
              "              title=\"Convert this dataframe to an interactive table.\"\n",
              "              style=\"display:none;\">\n",
              "        \n",
              "  <svg xmlns=\"http://www.w3.org/2000/svg\" height=\"24px\"viewBox=\"0 0 24 24\"\n",
              "       width=\"24px\">\n",
              "    <path d=\"M0 0h24v24H0V0z\" fill=\"none\"/>\n",
              "    <path d=\"M18.56 5.44l.94 2.06.94-2.06 2.06-.94-2.06-.94-.94-2.06-.94 2.06-2.06.94zm-11 1L8.5 8.5l.94-2.06 2.06-.94-2.06-.94L8.5 2.5l-.94 2.06-2.06.94zm10 10l.94 2.06.94-2.06 2.06-.94-2.06-.94-.94-2.06-.94 2.06-2.06.94z\"/><path d=\"M17.41 7.96l-1.37-1.37c-.4-.4-.92-.59-1.43-.59-.52 0-1.04.2-1.43.59L10.3 9.45l-7.72 7.72c-.78.78-.78 2.05 0 2.83L4 21.41c.39.39.9.59 1.41.59.51 0 1.02-.2 1.41-.59l7.78-7.78 2.81-2.81c.8-.78.8-2.07 0-2.86zM5.41 20L4 18.59l7.72-7.72 1.47 1.35L5.41 20z\"/>\n",
              "  </svg>\n",
              "      </button>\n",
              "      \n",
              "  <style>\n",
              "    .colab-df-container {\n",
              "      display:flex;\n",
              "      flex-wrap:wrap;\n",
              "      gap: 12px;\n",
              "    }\n",
              "\n",
              "    .colab-df-convert {\n",
              "      background-color: #E8F0FE;\n",
              "      border: none;\n",
              "      border-radius: 50%;\n",
              "      cursor: pointer;\n",
              "      display: none;\n",
              "      fill: #1967D2;\n",
              "      height: 32px;\n",
              "      padding: 0 0 0 0;\n",
              "      width: 32px;\n",
              "    }\n",
              "\n",
              "    .colab-df-convert:hover {\n",
              "      background-color: #E2EBFA;\n",
              "      box-shadow: 0px 1px 2px rgba(60, 64, 67, 0.3), 0px 1px 3px 1px rgba(60, 64, 67, 0.15);\n",
              "      fill: #174EA6;\n",
              "    }\n",
              "\n",
              "    [theme=dark] .colab-df-convert {\n",
              "      background-color: #3B4455;\n",
              "      fill: #D2E3FC;\n",
              "    }\n",
              "\n",
              "    [theme=dark] .colab-df-convert:hover {\n",
              "      background-color: #434B5C;\n",
              "      box-shadow: 0px 1px 3px 1px rgba(0, 0, 0, 0.15);\n",
              "      filter: drop-shadow(0px 1px 2px rgba(0, 0, 0, 0.3));\n",
              "      fill: #FFFFFF;\n",
              "    }\n",
              "  </style>\n",
              "\n",
              "      <script>\n",
              "        const buttonEl =\n",
              "          document.querySelector('#df-56523691-2fb6-4afb-85a4-6358ed5c8c5a button.colab-df-convert');\n",
              "        buttonEl.style.display =\n",
              "          google.colab.kernel.accessAllowed ? 'block' : 'none';\n",
              "\n",
              "        async function convertToInteractive(key) {\n",
              "          const element = document.querySelector('#df-56523691-2fb6-4afb-85a4-6358ed5c8c5a');\n",
              "          const dataTable =\n",
              "            await google.colab.kernel.invokeFunction('convertToInteractive',\n",
              "                                                     [key], {});\n",
              "          if (!dataTable) return;\n",
              "\n",
              "          const docLinkHtml = 'Like what you see? Visit the ' +\n",
              "            '<a target=\"_blank\" href=https://colab.research.google.com/notebooks/data_table.ipynb>data table notebook</a>'\n",
              "            + ' to learn more about interactive tables.';\n",
              "          element.innerHTML = '';\n",
              "          dataTable['output_type'] = 'display_data';\n",
              "          await google.colab.output.renderOutput(dataTable, element);\n",
              "          const docLink = document.createElement('div');\n",
              "          docLink.innerHTML = docLinkHtml;\n",
              "          element.appendChild(docLink);\n",
              "        }\n",
              "      </script>\n",
              "    </div>\n",
              "  </div>\n",
              "  "
            ]
          },
          "metadata": {},
          "execution_count": 15
        }
      ]
    },
    {
      "cell_type": "code",
      "source": [
        "from sklearn.cluster import KMeans"
      ],
      "metadata": {
        "id": "ek-r6u-LTWQ-"
      },
      "execution_count": 16,
      "outputs": []
    },
    {
      "cell_type": "markdown",
      "source": [
        "https://www.edupristine.com/blog/beyond-k-means"
      ],
      "metadata": {
        "id": "6Lo-x2bLjNir"
      }
    },
    {
      "cell_type": "markdown",
      "source": [
        "### Elbow method"
      ],
      "metadata": {
        "id": "u4CahI_vkmje"
      }
    },
    {
      "cell_type": "code",
      "source": [
        "wcss = []\n",
        "input_data = np.column_stack((temp.GDP, temp.happyScore))\n",
        "for i in range(1,11):\n",
        "  kmeans = KMeans(n_clusters = i, init = 'k-means++',max_iter = 300, n_init=10, random_state = 0)\n",
        "  kmeans.fit(input_data)\n",
        "  wcss.append(kmeans.inertia_)\n",
        "\n",
        "plt.plot(range(1,11),wcss)\n",
        "plt.title('The Elbow Method Graph')\n",
        "plt.xlabel('Number of clusters')\n",
        "plt.ylabel('WCSS')\n",
        "plt.show()"
      ],
      "metadata": {
        "colab": {
          "base_uri": "https://localhost:8080/",
          "height": 295
        },
        "id": "gOPhg-S6Ukut",
        "outputId": "a7bc99c8-99a0-44ab-9e10-5e023e58669c"
      },
      "execution_count": 18,
      "outputs": [
        {
          "output_type": "display_data",
          "data": {
            "text/plain": [
              "<Figure size 432x288 with 1 Axes>"
            ],
            "image/png": "[encoded data removed]"
          },
          "metadata": {
            "needs_background": "light"
          }
        }
      ]
    },
    {
      "cell_type": "markdown",
      "source": [
        "i above is between 1-10 numbers. init parameter is the random #initialization method  \n",
        "we select kmeans++ method. max_iter parameter the maximum number of iterations there can be to \n",
        "find the final clusters when the K-meands algorithm is running. we #enter the default value of 300\n",
        "the next parameter is n_init which is the number of times the #K_means algorithm will be run with\n",
        "different initial centroid."
      ],
      "metadata": {
        "id": "K8SxMQoxVYg2"
      }
    },
    {
      "cell_type": "code",
      "source": [
        "# According to the Elbow graph we deterrmine the clusters number as #3. Applying k-means algorithm to the X dataset.\n",
        "kmeans = KMeans(n_clusters=4, init ='k-means++', max_iter=300, n_init=10,random_state=0 )\n",
        "# We are going to use the fit predict method that returns for each #observation which cluster it belongs to. The cluster to which \n",
        "#client belongs and it will return this cluster numbers into a #single vector that is  called y K-means\n",
        "y_kmeans = kmeans.fit_predict(input_data)\n"
      ],
      "metadata": {
        "id": "L7v2ZCTPUke0"
      },
      "execution_count": 22,
      "outputs": []
    },
    {
      "cell_type": "code",
      "source": [
        "len(input_data[y_kmeans == 0, 1])"
      ],
      "metadata": {
        "colab": {
          "base_uri": "https://localhost:8080/"
        },
        "id": "F2l663jjaoCo",
        "outputId": "a5980a22-cab6-4541-c800-634130917f0f"
      },
      "execution_count": 43,
      "outputs": [
        {
          "output_type": "execute_result",
          "data": {
            "text/plain": [
              "28"
            ]
          },
          "metadata": {},
          "execution_count": 43
        }
      ]
    },
    {
      "cell_type": "code",
      "source": [
        "#Visualising the clusters\n",
        "plt.scatter(input_data[y_kmeans==0, 0], input_data[y_kmeans==0, 1], s=10, c='red', label ='Cluster 1')\n",
        "plt.scatter(input_data[y_kmeans==1, 0], input_data[y_kmeans==1, 1], s=10, c='blue', label ='Cluster 2')\n",
        "plt.scatter(input_data[y_kmeans==2, 0], input_data[y_kmeans==2, 1], s=10, c='green', label ='Cluster 3')\n",
        "plt.scatter(input_data[y_kmeans==3, 0], input_data[y_kmeans==3, 1], s=10, c='cyan', label ='Cluster 4')\n",
        "#Plot the centroid. This time we're going to use the cluster centres  #attribute that returns here the coordinates of the centroid.\n",
        "plt.scatter(kmeans.cluster_centers_[:, 0], kmeans.cluster_centers_[:, 1], s=300, c='yellow', label = 'Centroids', alpha = 0.5)\n",
        "plt.title('Clusters of Countries')\n",
        "plt.xlabel('GDP')\n",
        "plt.ylabel('Happy score')\n",
        "plt.show()"
      ],
      "metadata": {
        "colab": {
          "base_uri": "https://localhost:8080/",
          "height": 295
        },
        "id": "wTHMWEZYWnbF",
        "outputId": "055ee727-803e-4e8e-f144-3df266422ae2"
      },
      "execution_count": 28,
      "outputs": [
        {
          "output_type": "display_data",
          "data": {
            "text/plain": [
              "<Figure size 432x288 with 1 Axes>"
            ],
            "image/png": "[encoded data removed]"
          },
          "metadata": {
            "needs_background": "light"
          }
        }
      ]
    },
    {
      "cell_type": "markdown",
      "source": [
        "### kmeans clusters = 2"
      ],
      "metadata": {
        "id": "cCfwKCaucGbV"
      }
    },
    {
      "cell_type": "code",
      "source": [
        "kmean = KMeans(n_clusters= 2).fit(input_data)"
      ],
      "metadata": {
        "id": "Fbws-ojDeZZA"
      },
      "execution_count": 51,
      "outputs": []
    },
    {
      "cell_type": "code",
      "source": [
        "clusters = kmean.cluster_centers_\n",
        "clusters"
      ],
      "metadata": {
        "colab": {
          "base_uri": "https://localhost:8080/"
        },
        "id": "lvnfNCzTgJzV",
        "outputId": "6d13934c-319b-4ac7-df17-91b93ca90904"
      },
      "execution_count": 52,
      "outputs": [
        {
          "output_type": "execute_result",
          "data": {
            "text/plain": [
              "array([[0.61232145, 4.54      ],\n",
              "       [1.13240776, 6.53779592]])"
            ]
          },
          "metadata": {},
          "execution_count": 52
        }
      ]
    },
    {
      "cell_type": "code",
      "source": [
        "input_data[kmean.labels_==0, 0]"
      ],
      "metadata": {
        "colab": {
          "base_uri": "https://localhost:8080/"
        },
        "id": "nsQTOIu-hCfJ",
        "outputId": "2ecec512-15c2-4546-fc19-0a8b68b84f6f"
      },
      "execution_count": 53,
      "outputs": [
        {
          "output_type": "execute_result",
          "data": {
            "text/plain": [
              "array([0.0153 , 0.20824, 0.0712 , 0.08308, 0.0694 , 0.33024, 0.25812,\n",
              "       0.26074, 0.37545, 0.65435, 0.20868, 0.2852 , 0.22208, 0.47038,\n",
              "       0.28665, 0.19073, 0.21102, 0.36498, 0.34193, 0.39753, 0.64499,\n",
              "       0.35997, 0.75778, 0.59543, 0.4225 , 0.59066, 0.36471, 0.39047,\n",
              "       0.82827, 0.54558, 0.271  , 0.47428, 0.46038, 0.44025, 0.45407,\n",
              "       0.7419 , 0.76821, 0.70532, 0.63216, 1.06024, 0.83524, 0.89012,\n",
              "       0.73479, 0.59532, 1.04345, 0.82819, 0.88113, 1.02389, 0.99355,\n",
              "       0.92049, 1.00761, 0.79907, 0.89537, 0.92053, 1.0088 , 1.06098,\n",
              "       1.01216, 1.11312, 1.12094, 1.15174, 1.15991, 1.15406])"
            ]
          },
          "metadata": {},
          "execution_count": 53
        }
      ]
    },
    {
      "cell_type": "code",
      "source": [
        "plt.scatter(input_data[kmean.labels_==0, 0], input_data[kmean.labels_==0, 1] , s=50, color = 'red', label = 0)\n",
        "plt.scatter(input_data[kmean.labels_==1, 0], input_data[kmean.labels_==1, 1], s=50, color = 'blue', label =1)\n",
        "plt.scatter(clusters[:, 0], clusters[:,1], s = 100, alpha  = 0.5)"
      ],
      "metadata": {
        "colab": {
          "base_uri": "https://localhost:8080/",
          "height": 282
        },
        "id": "cKZpjur_eZS6",
        "outputId": "5b0eb415-9086-450a-8d65-f2d60e52a88f"
      },
      "execution_count": 64,
      "outputs": [
        {
          "output_type": "execute_result",
          "data": {
            "text/plain": [
              "<matplotlib.collections.PathCollection at 0x7f8da6c7e410>"
            ]
          },
          "metadata": {},
          "execution_count": 64
        },
        {
          "output_type": "display_data",
          "data": {
            "text/plain": [
              "<Figure size 432x288 with 1 Axes>"
            ],
            "image/png": "[encoded data removed]"
          },
          "metadata": {
            "needs_background": "light"
          }
        }
      ]
    },
    {
      "cell_type": "code",
      "source": [
        "np.std(temp['GDP'])"
      ],
      "metadata": {
        "colab": {
          "base_uri": "https://localhost:8080/"
        },
        "id": "3GAc7O45eZP8",
        "outputId": "be14c318-43f2-4c6c-9e0f-6f46176f657b"
      },
      "execution_count": 56,
      "outputs": [
        {
          "output_type": "execute_result",
          "data": {
            "text/plain": [
              "0.38584065111317734"
            ]
          },
          "metadata": {},
          "execution_count": 56
        }
      ]
    },
    {
      "cell_type": "code",
      "source": [
        "kmean.predict([[0.3,7]])"
      ],
      "metadata": {
        "colab": {
          "base_uri": "https://localhost:8080/"
        },
        "id": "Yp6b567eRRV_",
        "outputId": "f4b6940d-8678-4daf-84be-a7456ca6fe46"
      },
      "execution_count": 57,
      "outputs": [
        {
          "output_type": "execute_result",
          "data": {
            "text/plain": [
              "array([1], dtype=int32)"
            ]
          },
          "metadata": {},
          "execution_count": 57
        }
      ]
    },
    {
      "cell_type": "code",
      "source": [
        "feat_2 = KMeans(n_clusters= 3).fit( np.column_stack((temp['GDP'], temp['avg_income'], temp['happyScore']))) "
      ],
      "metadata": {
        "id": "HoSEHmVik_63"
      },
      "execution_count": 58,
      "outputs": []
    },
    {
      "cell_type": "code",
      "source": [
        "#print(feat_2.cluster_centers_)\n",
        "feat_2.labels_"
      ],
      "metadata": {
        "colab": {
          "base_uri": "https://localhost:8080/"
        },
        "id": "ja0viQdDkq5u",
        "outputId": "b5a76534-51a1-4ee4-896d-b1d467465967"
      },
      "execution_count": 59,
      "outputs": [
        {
          "output_type": "execute_result",
          "data": {
            "text/plain": [
              "array([0, 0, 0, 0, 0, 0, 0, 0, 0, 0, 0, 0, 0, 0, 0, 0, 0, 0, 0, 0, 0, 0,\n",
              "       0, 0, 0, 0, 0, 0, 0, 0, 0, 0, 0, 0, 0, 0, 0, 0, 0, 0, 0, 0, 0, 0,\n",
              "       0, 0, 0, 0, 0, 0, 0, 0, 0, 0, 0, 0, 0, 0, 0, 0, 0, 0, 0, 0, 0, 2,\n",
              "       2, 2, 2, 2, 2, 2, 2, 2, 2, 2, 2, 2, 2, 2, 2, 2, 2, 2, 2, 2, 2, 2,\n",
              "       2, 2, 2, 1, 1, 1, 1, 1, 1, 1, 1, 1, 1, 1, 1, 1, 1, 1, 1, 1, 1, 1,\n",
              "       1], dtype=int32)"
            ]
          },
          "metadata": {},
          "execution_count": 59
        }
      ]
    },
    {
      "cell_type": "code",
      "source": [
        "label = feat_2.labels_\n",
        "u_labels = np.unique([label])\n",
        " \n",
        "#plotting the results:\n",
        " \n",
        "for i in u_labels:\n",
        "    plt.scatter(input_data[label == i , 0] , input_data[label == i , 1] , label = i)\n",
        "plt.legend()\n",
        "plt.show()"
      ],
      "metadata": {
        "colab": {
          "base_uri": "https://localhost:8080/",
          "height": 265
        },
        "id": "z-ECkKXnkqru",
        "outputId": "af80ec41-5894-4b23-c661-c0d978f54112"
      },
      "execution_count": 63,
      "outputs": [
        {
          "output_type": "display_data",
          "data": {
            "text/plain": [
              "<Figure size 432x288 with 1 Axes>"
            ],
            "image/png": "[encoded data removed]"
          },
          "metadata": {
            "needs_background": "light"
          }
        }
      ]
    },
    {
      "cell_type": "code",
      "source": [],
      "metadata": {
        "id": "IEbH-Mz1kqo3"
      },
      "execution_count": null,
      "outputs": []
    },
    {
      "cell_type": "code",
      "source": [],
      "metadata": {
        "id": "FANyKSmBlDCd"
      },
      "execution_count": null,
      "outputs": []
    }
  ]
}